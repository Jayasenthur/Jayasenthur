{
  "nbformat": 4,
  "nbformat_minor": 0,
  "metadata": {
    "colab": {
      "provenance": [],
      "authorship_tag": "ABX9TyMYtA1WX4jBmLte9Do+dYWI",
      "include_colab_link": true
    },
    "kernelspec": {
      "name": "python3",
      "display_name": "Python 3"
    },
    "language_info": {
      "name": "python"
    }
  },
  "cells": [
    {
      "cell_type": "markdown",
      "metadata": {
        "id": "view-in-github",
        "colab_type": "text"
      },
      "source": [
        "<a href=\"https://colab.research.google.com/github/Jayasenthur/Jayasenthur/blob/main/mycoding2.ipynb\" target=\"_parent\"><img src=\"https://colab.research.google.com/assets/colab-badge.svg\" alt=\"Open In Colab\"/></a>"
      ]
    },
    {
      "cell_type": "code",
      "execution_count": null,
      "metadata": {
        "colab": {
          "base_uri": "https://localhost:8080/"
        },
        "id": "n0z_KQDqbRtr",
        "outputId": "f8977a9a-275c-4c84-8c57-e6b70d777fc6"
      },
      "outputs": [
        {
          "output_type": "stream",
          "name": "stdout",
          "text": [
            "5 4\n",
            "1 1 1 1 5\n",
            "1\n"
          ]
        }
      ],
      "source": [
        "n,k=list(map(int,input().split()))\n",
        "arr=list(map(int,input().split()))\n",
        "arr.sort()\n",
        "res=arr[k-1]\n",
        "print(res)\n",
        "if not res :\n",
        " print(-1)\n"
      ]
    },
    {
      "cell_type": "markdown",
      "source": [],
      "metadata": {
        "id": "H4e2vHQ4hOuq"
      }
    },
    {
      "cell_type": "code",
      "source": [
        "n=int(input())\n",
        "s=str(n)\n",
        "l=len(s)\n",
        "sum=0\n",
        "for char in s:\n",
        "  sum=sum + int(char)**l\n",
        "print(sum)"
      ],
      "metadata": {
        "colab": {
          "base_uri": "https://localhost:8080/"
        },
        "id": "ZleTOjxyiDI1",
        "outputId": "83f355bf-5f6a-4e88-f4be-3140a9e887f4"
      },
      "execution_count": null,
      "outputs": [
        {
          "output_type": "stream",
          "name": "stdout",
          "text": [
            "12300\n",
            "276\n"
          ]
        }
      ]
    },
    {
      "cell_type": "code",
      "source": [
        "n=int(input())\n",
        "l=[]\n",
        "vowels=\"aeiou\"\n",
        "count=0\n",
        "for i in range(0,n) :\n",
        "  l.append(input())\n",
        "for c in l :\n",
        "   for i in l[i] :\n",
        "      print(i)\n",
        "      if i in vowels:\n",
        "       count+=1\n",
        "print(count)\n",
        "if count==len(l) :\n",
        "  print(\"yes\")\n",
        "else :\n",
        "  print(\"no\")\n",
        "\n",
        "\n",
        "kkkkkkkkkkk"
      ],
      "metadata": {
        "colab": {
          "base_uri": "https://localhost:8080/",
          "height": 349
        },
        "id": "nrrLKtMDjyyL",
        "outputId": "73da3cfd-c192-47a3-b80c-40396d636c81"
      },
      "execution_count": null,
      "outputs": [
        {
          "output_type": "stream",
          "name": "stdout",
          "text": [
            "2\n",
            "code\n",
            "anish\n",
            "a\n",
            "n\n",
            "i\n",
            "s\n",
            "h\n"
          ]
        },
        {
          "output_type": "error",
          "ename": "TypeError",
          "evalue": "list indices must be integers or slices, not str",
          "traceback": [
            "\u001b[0;31m---------------------------------------------------------------------------\u001b[0m",
            "\u001b[0;31mTypeError\u001b[0m                                 Traceback (most recent call last)",
            "\u001b[0;32m<ipython-input-17-8c64f792bb2e>\u001b[0m in \u001b[0;36m<cell line: 7>\u001b[0;34m()\u001b[0m\n\u001b[1;32m      6\u001b[0m   \u001b[0ml\u001b[0m\u001b[0;34m.\u001b[0m\u001b[0mappend\u001b[0m\u001b[0;34m(\u001b[0m\u001b[0minput\u001b[0m\u001b[0;34m(\u001b[0m\u001b[0;34m)\u001b[0m\u001b[0;34m)\u001b[0m\u001b[0;34m\u001b[0m\u001b[0;34m\u001b[0m\u001b[0m\n\u001b[1;32m      7\u001b[0m \u001b[0;32mfor\u001b[0m \u001b[0mc\u001b[0m \u001b[0;32min\u001b[0m \u001b[0ml\u001b[0m \u001b[0;34m:\u001b[0m\u001b[0;34m\u001b[0m\u001b[0;34m\u001b[0m\u001b[0m\n\u001b[0;32m----> 8\u001b[0;31m    \u001b[0;32mfor\u001b[0m \u001b[0mi\u001b[0m \u001b[0;32min\u001b[0m \u001b[0ml\u001b[0m\u001b[0;34m[\u001b[0m\u001b[0mi\u001b[0m\u001b[0;34m]\u001b[0m \u001b[0;34m:\u001b[0m\u001b[0;34m\u001b[0m\u001b[0;34m\u001b[0m\u001b[0m\n\u001b[0m\u001b[1;32m      9\u001b[0m       \u001b[0mprint\u001b[0m\u001b[0;34m(\u001b[0m\u001b[0mi\u001b[0m\u001b[0;34m)\u001b[0m\u001b[0;34m\u001b[0m\u001b[0;34m\u001b[0m\u001b[0m\n\u001b[1;32m     10\u001b[0m       \u001b[0;32mif\u001b[0m \u001b[0mi\u001b[0m \u001b[0;32min\u001b[0m \u001b[0mvowels\u001b[0m\u001b[0;34m:\u001b[0m\u001b[0;34m\u001b[0m\u001b[0;34m\u001b[0m\u001b[0m\n",
            "\u001b[0;31mTypeError\u001b[0m: list indices must be integers or slices, not str"
          ]
        }
      ]
    },
    {
      "cell_type": "code",
      "source": [
        "class account() :\n",
        "\n",
        "  def __init__(self,name,accountno,balance) :\n",
        "    self.name=name\n",
        "    self.accountno=accountno\n",
        "    self.balance=balance\n",
        "  def deposit(self,amount) :\n",
        "    self.balance=self.balance + amount\n",
        "    return \" your updated balance\" + str(self.balance)\n",
        "  def withdraw(self,amount) :\n",
        "    if (self.balance >= amount) :\n",
        "      self.balance=self.balance-amount\n",
        "      return \"Your updated balance : \" + str(self.balance)\n",
        "    else :\n",
        "      return false\n",
        "  def transfer(self,account,amount) :\n",
        "    if(self.withdraw(amount)) :\n",
        "      account.deposit(amount)\n",
        "    else :\n",
        "      print(\"unable to withdraw\")\n",
        "\n",
        "jaya=account(\"jaya\",1234,10000)\n",
        "laks=account(\"laks\",3456,20000)\n",
        "\n",
        "print(jaya.name)\n",
        "print(laks.balance)\n",
        "print(jaya.deposit(3000))\n",
        "print(laks.deposit(2000))\n",
        "print(jaya.withdraw(500))\n",
        "print(laks.withdraw(100))\n",
        "print(jaya.transfer(1234,1000))\n",
        "print(laks.transfer(3456,1000))"
      ],
      "metadata": {
        "colab": {
          "base_uri": "https://localhost:8080/",
          "height": 419
        },
        "id": "q2OWw5rgWcAA",
        "outputId": "a484c238-48d3-46cc-eab4-f7ec491dd845"
      },
      "execution_count": null,
      "outputs": [
        {
          "output_type": "stream",
          "name": "stdout",
          "text": [
            "jaya\n",
            "20000\n",
            " your updated balance13000\n",
            " your updated balance22000\n",
            "Your updated balance : 12500\n",
            "Your updated balance : 21900\n"
          ]
        },
        {
          "output_type": "error",
          "ename": "AttributeError",
          "evalue": "'int' object has no attribute 'deposit'",
          "traceback": [
            "\u001b[0;31m---------------------------------------------------------------------------\u001b[0m",
            "\u001b[0;31mAttributeError\u001b[0m                            Traceback (most recent call last)",
            "\u001b[0;32m<ipython-input-6-8ecac7d5654d>\u001b[0m in \u001b[0;36m<cell line: 31>\u001b[0;34m()\u001b[0m\n\u001b[1;32m     29\u001b[0m \u001b[0mprint\u001b[0m\u001b[0;34m(\u001b[0m\u001b[0mjaya\u001b[0m\u001b[0;34m.\u001b[0m\u001b[0mwithdraw\u001b[0m\u001b[0;34m(\u001b[0m\u001b[0;36m500\u001b[0m\u001b[0;34m)\u001b[0m\u001b[0;34m)\u001b[0m\u001b[0;34m\u001b[0m\u001b[0;34m\u001b[0m\u001b[0m\n\u001b[1;32m     30\u001b[0m \u001b[0mprint\u001b[0m\u001b[0;34m(\u001b[0m\u001b[0mlaks\u001b[0m\u001b[0;34m.\u001b[0m\u001b[0mwithdraw\u001b[0m\u001b[0;34m(\u001b[0m\u001b[0;36m100\u001b[0m\u001b[0;34m)\u001b[0m\u001b[0;34m)\u001b[0m\u001b[0;34m\u001b[0m\u001b[0;34m\u001b[0m\u001b[0m\n\u001b[0;32m---> 31\u001b[0;31m \u001b[0mprint\u001b[0m\u001b[0;34m(\u001b[0m\u001b[0mjaya\u001b[0m\u001b[0;34m.\u001b[0m\u001b[0mtransfer\u001b[0m\u001b[0;34m(\u001b[0m\u001b[0;36m1234\u001b[0m\u001b[0;34m,\u001b[0m\u001b[0;36m1000\u001b[0m\u001b[0;34m)\u001b[0m\u001b[0;34m)\u001b[0m\u001b[0;34m\u001b[0m\u001b[0;34m\u001b[0m\u001b[0m\n\u001b[0m\u001b[1;32m     32\u001b[0m \u001b[0mprint\u001b[0m\u001b[0;34m(\u001b[0m\u001b[0mlaks\u001b[0m\u001b[0;34m.\u001b[0m\u001b[0mtransfer\u001b[0m\u001b[0;34m(\u001b[0m\u001b[0;36m3456\u001b[0m\u001b[0;34m,\u001b[0m\u001b[0;36m1000\u001b[0m\u001b[0;34m)\u001b[0m\u001b[0;34m)\u001b[0m\u001b[0;34m\u001b[0m\u001b[0;34m\u001b[0m\u001b[0m\n",
            "\u001b[0;32m<ipython-input-6-8ecac7d5654d>\u001b[0m in \u001b[0;36mtransfer\u001b[0;34m(self, account, amount)\u001b[0m\n\u001b[1;32m     16\u001b[0m   \u001b[0;32mdef\u001b[0m \u001b[0mtransfer\u001b[0m\u001b[0;34m(\u001b[0m\u001b[0mself\u001b[0m\u001b[0;34m,\u001b[0m\u001b[0maccount\u001b[0m\u001b[0;34m,\u001b[0m\u001b[0mamount\u001b[0m\u001b[0;34m)\u001b[0m \u001b[0;34m:\u001b[0m\u001b[0;34m\u001b[0m\u001b[0;34m\u001b[0m\u001b[0m\n\u001b[1;32m     17\u001b[0m     \u001b[0;32mif\u001b[0m\u001b[0;34m(\u001b[0m\u001b[0mself\u001b[0m\u001b[0;34m.\u001b[0m\u001b[0mwithdraw\u001b[0m\u001b[0;34m(\u001b[0m\u001b[0mamount\u001b[0m\u001b[0;34m)\u001b[0m\u001b[0;34m)\u001b[0m \u001b[0;34m:\u001b[0m\u001b[0;34m\u001b[0m\u001b[0;34m\u001b[0m\u001b[0m\n\u001b[0;32m---> 18\u001b[0;31m       \u001b[0maccount\u001b[0m\u001b[0;34m.\u001b[0m\u001b[0mdeposit\u001b[0m\u001b[0;34m(\u001b[0m\u001b[0mamount\u001b[0m\u001b[0;34m)\u001b[0m\u001b[0;34m\u001b[0m\u001b[0;34m\u001b[0m\u001b[0m\n\u001b[0m\u001b[1;32m     19\u001b[0m     \u001b[0;32melse\u001b[0m \u001b[0;34m:\u001b[0m\u001b[0;34m\u001b[0m\u001b[0;34m\u001b[0m\u001b[0m\n\u001b[1;32m     20\u001b[0m       \u001b[0mprint\u001b[0m\u001b[0;34m(\u001b[0m\u001b[0;34m\"unable to withdraw\"\u001b[0m\u001b[0;34m)\u001b[0m\u001b[0;34m\u001b[0m\u001b[0;34m\u001b[0m\u001b[0m\n",
            "\u001b[0;31mAttributeError\u001b[0m: 'int' object has no attribute 'deposit'"
          ]
        }
      ]
    },
    {
      "cell_type": "code",
      "source": [
        "class father() :\n",
        "    def __init__(self):\n",
        "        pass\n",
        "    def nose(self) :\n",
        "        return \"pointed nose\"\n",
        "\n",
        "\n",
        "class son(father) :\n",
        "    def __init__(self):\n",
        "       pass\n",
        "    def height (self) :\n",
        "        return \"6.1\"\n",
        "    def eyes(self) :\n",
        "      return \"black\"\n",
        "\n",
        "class grandson(son) :\n",
        "    def __init__(self):\n",
        "       pass\n",
        "    def eyes(self) :\n",
        "      return \"green\"\n",
        "\n",
        "a=grandson()\n",
        "print(a.height())\n",
        "print(a.nose())\n",
        "print(a.eyes())"
      ],
      "metadata": {
        "colab": {
          "base_uri": "https://localhost:8080/"
        },
        "id": "fDQ0PNTxhzMj",
        "outputId": "fe8f77ec-b262-44aa-b06a-515ebce684c2"
      },
      "execution_count": null,
      "outputs": [
        {
          "output_type": "stream",
          "name": "stdout",
          "text": [
            "6.1\n",
            "pointed nose\n",
            "green\n"
          ]
        }
      ]
    },
    {
      "cell_type": "code",
      "source": [
        "#without encapsulation\n",
        "class BankAccount:\n",
        "   def __init__(self, account_number, balance):\n",
        "       self.account_number = account_number\n",
        "       self.balance = balance  # Public attribute\n",
        "\n",
        "\n",
        "   def deposit(self, amount):\n",
        "     self.balance += amount\n",
        "     return self.balance\n",
        "\n",
        "\n",
        "   def withdraw(self, amount):\n",
        "       if amount > self.balance:\n",
        "           print(\"Insufficient funds!\")\n",
        "           return\n",
        "       self.balance -= amount\n",
        "       return self.balance\n",
        "\n",
        "\n",
        "   def get_balance(self):\n",
        "       return self.balance\n",
        "account = BankAccount(\"123456789\", 100)\n",
        "print(account.get_balance())  # 100\n",
        "\n",
        "\n",
        "# With the balance being public, we can change it directly, potentially causing data inconsistency or misuse:\n",
        "account.balance = 1000000\n",
        "print(account.get_balance())  # 1000000\n",
        "\n",
        "\n",
        "# Or even set it to nonsensical values:\n",
        "account.balance = -500\n",
        "print(account.get_balance())"
      ],
      "metadata": {
        "colab": {
          "base_uri": "https://localhost:8080/"
        },
        "id": "oF-csh0hwDnq",
        "outputId": "ed7e0902-6dd9-47e9-f2ad-cd516e135bec"
      },
      "execution_count": null,
      "outputs": [
        {
          "output_type": "stream",
          "name": "stdout",
          "text": [
            "100\n",
            "1000000\n",
            "-500\n"
          ]
        }
      ]
    },
    {
      "cell_type": "code",
      "source": [
        "class test :\n",
        "  name=\"class variable\"\n",
        "  def __init__(self):\n",
        "    self.name=\"python\"\n",
        "    self.course=\"Data science\"\n",
        "  def func(self):\n",
        "    print(\"hello\")\n",
        "x=test()\n",
        "x1=test()\n",
        "print(x1.name)\n",
        "print(x1.course)\n",
        "print(x.name)"
      ],
      "metadata": {
        "colab": {
          "base_uri": "https://localhost:8080/"
        },
        "id": "sLlZECCNcBUy",
        "outputId": "9a639fe3-27b1-4c08-d1ba-693b26d09064"
      },
      "execution_count": null,
      "outputs": [
        {
          "output_type": "stream",
          "name": "stdout",
          "text": [
            "python\n",
            "Data science\n",
            "python\n"
          ]
        }
      ]
    },
    {
      "cell_type": "code",
      "source": [
        "class parent :\n",
        "  def function1(self) :\n",
        "    print(\"this is function one\")\n",
        "class child(parent) :\n",
        "  def function(self) :\n",
        "    print(\"this is child function\")\n",
        "ob=child()\n",
        "ob.function1()\n",
        "ob.function()"
      ],
      "metadata": {
        "colab": {
          "base_uri": "https://localhost:8080/"
        },
        "id": "NI4KuCy0m0Bh",
        "outputId": "f86692e6-b7f6-4806-c30b-931c836ecfd4"
      },
      "execution_count": null,
      "outputs": [
        {
          "output_type": "stream",
          "name": "stdout",
          "text": [
            "this is function one\n",
            "this is child function\n"
          ]
        }
      ]
    },
    {
      "cell_type": "code",
      "source": [
        "class parent1 :\n",
        "  def func1(self):\n",
        "    print(\"one\")\n",
        "class parent2 :\n",
        "  def func2(self):\n",
        "    print(\"two\")\n",
        "class child(parent1,parent2):\n",
        "  def func3(self) :\n",
        "    print(\"three\")\n",
        "obj=child()\n",
        "obj.func1()\n",
        "obj.func2()\n",
        "obj.func3()"
      ],
      "metadata": {
        "colab": {
          "base_uri": "https://localhost:8080/"
        },
        "id": "_v3eL9JJoJ58",
        "outputId": "12272311-281a-4c92-c0cf-b290a6816596"
      },
      "execution_count": null,
      "outputs": [
        {
          "output_type": "stream",
          "name": "stdout",
          "text": [
            "one\n",
            "two\n",
            "three\n"
          ]
        }
      ]
    },
    {
      "cell_type": "code",
      "source": [
        "k=int(input())\n",
        "l=list(map(int,input().split()))\n",
        "s=min(l)\n",
        "g=max(l)\n",
        "s_index=l.index(s)\n",
        "g_index=l.index(g)\n",
        "print(s_index + 1,g_index + 1)\n"
      ],
      "metadata": {
        "colab": {
          "base_uri": "https://localhost:8080/"
        },
        "id": "iXL1wCxh008G",
        "outputId": "3d8d6d73-4faf-4066-ac50-ec7f379876e5"
      },
      "execution_count": null,
      "outputs": [
        {
          "output_type": "stream",
          "name": "stdout",
          "text": [
            "5\n",
            "1 2 3 4 5\n",
            "1 5\n",
            "1 5\n"
          ]
        }
      ]
    },
    {
      "cell_type": "code",
      "source": [
        "#merge k sorted arrays\n",
        "k=int(input())\n",
        "for i in range(n) :\n",
        "  l=[]\n",
        "  l.append()"
      ],
      "metadata": {
        "id": "TI3wsP5vPo00"
      },
      "execution_count": null,
      "outputs": []
    },
    {
      "cell_type": "code",
      "source": [
        "str1=\"hi how are you\"\n",
        "l=len(str1)\n",
        "\n",
        "for char in str1 :\n",
        "  str2=char[::-1]\n",
        "  print(str2)\n",
        "print(str2)"
      ],
      "metadata": {
        "colab": {
          "base_uri": "https://localhost:8080/"
        },
        "id": "I-IvYuoBF54w",
        "outputId": "3e057a9e-d933-4972-99c9-a93632b1c214"
      },
      "execution_count": null,
      "outputs": [
        {
          "output_type": "stream",
          "name": "stdout",
          "text": [
            "h\n",
            "i\n",
            " \n",
            "h\n",
            "o\n",
            "w\n",
            " \n",
            "a\n",
            "r\n",
            "e\n",
            " \n",
            "y\n",
            "o\n",
            "u\n",
            "u\n"
          ]
        }
      ]
    },
    {
      "cell_type": "code",
      "source": [
        "def printReverse(s):\n",
        "     l = [s for s in s.split(' ')]\n",
        "     print(l[0], end = ' ')\n",
        "     for i in range(1, len(l)-1):\n",
        "       print(l[i][::-1], end = ' ')\n",
        "     print(l[len(l)-1])\n",
        "s = input()\n",
        "printReverse(s)"
      ],
      "metadata": {
        "colab": {
          "base_uri": "https://localhost:8080/"
        },
        "id": "vcNob6cZIA5h",
        "outputId": "137107a4-480b-45a9-a6e2-6d3f874f9c25"
      },
      "execution_count": null,
      "outputs": [
        {
          "output_type": "stream",
          "name": "stdout",
          "text": [
            "hi how are you\n",
            "hi woh era you\n"
          ]
        }
      ]
    },
    {
      "cell_type": "code",
      "source": [
        "#string codekata 87\n",
        "s=input()\n",
        "words=s.split()\n",
        "max_length = max(len(word) for word in words)\n",
        "longest_words = [word for word in words if len(word) == max_length]\n",
        "if len(longest_words)>1 :\n",
        "  print(str(longest_words[0]))\n",
        "else :\n",
        "  print(*longest_words)\n",
        "\n",
        "\n"
      ],
      "metadata": {
        "colab": {
          "base_uri": "https://localhost:8080/"
        },
        "id": "isEXob87JwyJ",
        "outputId": "20c8db4c-5560-4af6-c129-be00931b9990"
      },
      "execution_count": null,
      "outputs": [
        {
          "output_type": "stream",
          "name": "stdout",
          "text": [
            "geeks\n"
          ]
        }
      ]
    },
    {
      "cell_type": "code",
      "source": [
        "s,pos,n=[5567,2,1]\n",
        "#list(map(int,input().split()))\n",
        "str1=str(s)\n",
        "str2=str1[n:pos]\n",
        "print(str2)\n",
        "\n"
      ],
      "metadata": {
        "colab": {
          "base_uri": "https://localhost:8080/"
        },
        "id": "W5dTNTsSQ1SV",
        "outputId": "99b7b537-0f96-4409-b814-87a3c25dbfce"
      },
      "execution_count": null,
      "outputs": [
        {
          "output_type": "stream",
          "name": "stdout",
          "text": [
            "5\n"
          ]
        }
      ]
    },
    {
      "cell_type": "code",
      "source": [
        "import datetime\n",
        "datestring = input()\n",
        "d = datetime.datetime.strptime(datestring ,'%m-%d-%Y')\n",
        "print(str(d.strftime('%B')))"
      ],
      "metadata": {
        "colab": {
          "base_uri": "https://localhost:8080/"
        },
        "id": "Ysz914AZfdpH",
        "outputId": "b3415f66-b42e-4e85-92fc-38b1f0168102"
      },
      "execution_count": null,
      "outputs": [
        {
          "output_type": "stream",
          "name": "stdout",
          "text": [
            "01-01-2018\n",
            "January\n"
          ]
        }
      ]
    },
    {
      "cell_type": "code",
      "source": [
        "import datetime\n",
        "datestring = input()\n",
        "format = \"%d/%m/%Y\"\n",
        "res = True\n",
        "try:\n",
        "    res = bool(datetime.datetime.strptime(datestring, format))\n",
        "    if res==True :\n",
        "      print(\"yes\")\n",
        "except ValueError:\n",
        "    res = \"no\"\n",
        "    print(res)\n"
      ],
      "metadata": {
        "colab": {
          "base_uri": "https://localhost:8080/"
        },
        "id": "tmcVEOK-lG-i",
        "outputId": "6c1c31f8-e8f3-4bec-9baf-8c5f00429a25"
      },
      "execution_count": null,
      "outputs": [
        {
          "output_type": "stream",
          "name": "stdout",
          "text": [
            "7/13/1986\n",
            "no\n"
          ]
        }
      ]
    },
    {
      "cell_type": "code",
      "source": [
        "str1=\"aaab\"\n",
        "for char in str1 :\n",
        "  print(str1.count(char))\n"
      ],
      "metadata": {
        "colab": {
          "base_uri": "https://localhost:8080/"
        },
        "id": "BQuwe82HxIOi",
        "outputId": "bd258098-d5e5-4009-eff1-94c2b69372d1"
      },
      "execution_count": null,
      "outputs": [
        {
          "output_type": "stream",
          "name": "stdout",
          "text": [
            "3\n"
          ]
        }
      ]
    },
    {
      "cell_type": "code",
      "source": [
        "a = input()\n",
        "for i in range(len(a)):\n",
        "  if a[i] == 'a' or a[i] == 'b':\n",
        "    flag = True\n",
        "    pass\n",
        "  else:\n",
        "    flag = False\n",
        "    break\n",
        "if flag:\n",
        "  print(\"yes\")\n",
        "else:\n",
        "  print(\"no\")"
      ],
      "metadata": {
        "colab": {
          "base_uri": "https://localhost:8080/"
        },
        "id": "m03MOQZmR7h-",
        "outputId": "e463a45c-b8f7-4d8e-f238-f98936cb97c9"
      },
      "execution_count": null,
      "outputs": [
        {
          "output_type": "stream",
          "name": "stdout",
          "text": [
            "yes\n"
          ]
        }
      ]
    },
    {
      "cell_type": "code",
      "source": [
        "class car() :\n",
        "  pass\n",
        "honda=car()\n",
        "honda."
      ],
      "metadata": {
        "id": "XWJRC6_vVYJP"
      },
      "execution_count": null,
      "outputs": []
    },
    {
      "cell_type": "code",
      "source": [
        "\n",
        "\n"
      ],
      "metadata": {
        "colab": {
          "base_uri": "https://localhost:8080/"
        },
        "id": "FZJMs-StpF0i",
        "outputId": "d8cea82c-55b9-4679-c27d-b386a83f79a0"
      },
      "execution_count": null,
      "outputs": [
        {
          "output_type": "stream",
          "name": "stdout",
          "text": [
            "yes\n"
          ]
        }
      ]
    },
    {
      "cell_type": "code",
      "source": [
        "str1,str2=input().split(' ')\n",
        "if len(str1)==len(str2):\n",
        "  print(str1+str2)\n",
        "if len(str2)>len(str1) :\n",
        "  print(str1+str2[:len(str1)])\n",
        "if len(str1)>len(str2) :\n",
        "  print(str1[:len(str2)]+str2)"
      ],
      "metadata": {
        "colab": {
          "base_uri": "https://localhost:8080/"
        },
        "id": "D3jC0dC-kmDa",
        "outputId": "005612b2-3d82-4f2a-f2e1-ae964e2b2fff"
      },
      "execution_count": null,
      "outputs": [
        {
          "output_type": "stream",
          "name": "stdout",
          "text": [
            "coding club\n",
            "codiclub\n"
          ]
        }
      ]
    },
    {
      "cell_type": "code",
      "source": [
        "vowels=\"aeiouAEIOU\"\n",
        "str1=input()\n",
        "str2=\"\"\n",
        "str3=\"\"\n",
        "new_str=\"\"\n",
        "for c in str1 :\n",
        "  if c in vowels :\n",
        "    str2+=c\n",
        "  else :\n",
        "    str3+=c\n",
        "new_str=str2+str3\n",
        "print(new_str)\n",
        "\n"
      ],
      "metadata": {
        "colab": {
          "base_uri": "https://localhost:8080/"
        },
        "id": "gID3Re2HnYk-",
        "outputId": "6d0c5655-d648-4e13-9767-6708cf59d02f"
      },
      "execution_count": null,
      "outputs": [
        {
          "output_type": "stream",
          "name": "stdout",
          "text": [
            "uIGV\n"
          ]
        }
      ]
    },
    {
      "cell_type": "code",
      "source": [
        "n = int(input())\n",
        "if n >= -32768 and n <= 32767:print(\"INT\")\n",
        "else:print(\"LONG\")"
      ],
      "metadata": {
        "colab": {
          "base_uri": "https://localhost:8080/"
        },
        "id": "usFVZhOlw2lZ",
        "outputId": "05284a57-c4ce-4407-c8db-2459b86dd0f1"
      },
      "execution_count": null,
      "outputs": [
        {
          "output_type": "stream",
          "name": "stdout",
          "text": [
            "999\n",
            "INT\n"
          ]
        }
      ]
    },
    {
      "cell_type": "code",
      "source": [],
      "metadata": {
        "id": "m9yjdlwmEbr_"
      },
      "execution_count": null,
      "outputs": []
    },
    {
      "cell_type": "code",
      "source": [
        "def foo(x) :\n",
        "  return x + 1\n",
        "result=map(foo,[1,2,3,4])\n",
        "print(list(result))"
      ],
      "metadata": {
        "colab": {
          "base_uri": "https://localhost:8080/"
        },
        "id": "5Vx-YRfaqsov",
        "outputId": "00497fab-0483-4f3c-f67a-c52c1499b8f8"
      },
      "execution_count": null,
      "outputs": [
        {
          "output_type": "stream",
          "name": "stdout",
          "text": [
            "[2, 3, 4, 5]\n"
          ]
        }
      ]
    },
    {
      "cell_type": "code",
      "source": [
        "(n, k) = map(str, input().split())\n",
        "flag = True\n",
        "for i in range(int(k)+1):\n",
        "    if str(i) not in n:\n",
        "        flag = False\n",
        "        break\n",
        "if flag:\n",
        "    print(\"yes\")\n",
        "else:\n",
        "    print(\"no\")\n"
      ],
      "metadata": {
        "colab": {
          "base_uri": "https://localhost:8080/"
        },
        "id": "oooVTC3RjDfU",
        "outputId": "6bf503e9-39ae-4860-a163-dce672ea0e3f"
      },
      "execution_count": null,
      "outputs": [
        {
          "output_type": "stream",
          "name": "stdout",
          "text": [
            "235678 4\n",
            "no\n"
          ]
        }
      ]
    },
    {
      "cell_type": "code",
      "source": [
        "#(str1, str2) = map(str, input().split())\n",
        "#str1=\"codekata challenge\"\n",
        "str1=input()\n",
        "str2=\"\"\n",
        "cnt=0\n",
        "for char in str1 :\n",
        "  if str1.count(char) == 1  :\n",
        "    cnt+=1\n",
        "  elif str1.count(char) > 1  :\n",
        "        str2=str1.replace(char,\"\")\n",
        "        str1=str2\n",
        "if ' ' in str2 :\n",
        "   print(str2.replace(\" \",\"\"))\n",
        "elif len(str1)==cnt :\n",
        "    print(str1)\n",
        "else :\n",
        "   print(str2)\n",
        "\n",
        "\n",
        "\n"
      ],
      "metadata": {
        "colab": {
          "base_uri": "https://localhost:8080/"
        },
        "id": "5z8IWA9RImqS",
        "outputId": "35493ae5-c0f7-406e-c50f-f25fc1051517"
      },
      "execution_count": null,
      "outputs": [
        {
          "output_type": "stream",
          "name": "stdout",
          "text": [
            "gguuuvvi\n",
            "i\n"
          ]
        }
      ]
    },
    {
      "cell_type": "code",
      "source": [],
      "metadata": {
        "id": "eWDDHmva5vNA"
      },
      "execution_count": null,
      "outputs": []
    },
    {
      "cell_type": "code",
      "source": [
        "n=int(input())\n",
        "li=list(map(int,input().split()))\n",
        "max=0\n",
        "max_freq_num=li[0]\n",
        "for i in li :\n",
        "   freq=li.count(i)\n",
        "   if freq>max :\n",
        "    max=freq\n",
        "    max_freq_num=i\n",
        "print(max_freq_num)\n"
      ],
      "metadata": {
        "id": "CcTtyD8w5z9z"
      },
      "execution_count": null,
      "outputs": []
    },
    {
      "cell_type": "code",
      "source": [
        "n,k=list(map(int,input().split()))\n",
        "li=list(map(int,input().split()))\n",
        "m=[]\n",
        "for i in li :\n",
        "  if i<k :\n",
        "    m.append(i)\n",
        "if len(m)>=1 :\n",
        "  print(*m)\n",
        "else :\n",
        "  print(-1)\n"
      ],
      "metadata": {
        "colab": {
          "base_uri": "https://localhost:8080/"
        },
        "id": "NonM74yA9K6N",
        "outputId": "09369fc6-739f-41c3-a048-885c83bbc21e"
      },
      "execution_count": null,
      "outputs": [
        {
          "output_type": "stream",
          "name": "stdout",
          "text": [
            "5 3\n",
            "5 6 7 8 9\n",
            "-1\n"
          ]
        }
      ]
    },
    {
      "cell_type": "code",
      "source": [
        "n=int(input())\n",
        "li=list(map(int,input().split()))\n",
        "even=[]\n",
        "odd=[]\n",
        "for i in li :\n",
        "  if i%2!=0 :\n",
        "   odd.append(i)\n",
        "  else :\n",
        "    even.append(i)\n",
        "if len(odd) > len(even) :\n",
        "  if len(even)!=0 :\n",
        "   print(*even)\n",
        "else :\n",
        "  if len(odd)!=0 :\n",
        "    print(*odd)\n",
        "if len(odd)==n or len(even)==n :\n",
        "  print(-1)"
      ],
      "metadata": {
        "colab": {
          "base_uri": "https://localhost:8080/"
        },
        "id": "GD8cf3jyB_Ia",
        "outputId": "48910829-58ec-49fd-8deb-9106ecdb3aa5"
      },
      "execution_count": null,
      "outputs": [
        {
          "output_type": "stream",
          "name": "stdout",
          "text": [
            "3\n",
            "2 4 6\n",
            "-1\n"
          ]
        }
      ]
    },
    {
      "cell_type": "code",
      "source": [
        "n=int(input())\n",
        "l=list(map(int,input().split()))\n",
        "l.sort()\n",
        "num=l[0]\n",
        "flag=0\n",
        "for i in l :\n",
        "  if l.count(i)==n :\n",
        "     print(-1)\n",
        "     break\n",
        "  else :\n",
        "    flag=1\n",
        "if flag==1 :\n",
        "  print(l[1])"
      ],
      "metadata": {
        "colab": {
          "base_uri": "https://localhost:8080/"
        },
        "id": "KYbhisxVOQ7Q",
        "outputId": "31a8d5c3-84dc-4924-ae52-a939f86735b2"
      },
      "execution_count": null,
      "outputs": [
        {
          "output_type": "stream",
          "name": "stdout",
          "text": [
            "5\n",
            "4 3 2 5 1\n",
            "2\n"
          ]
        }
      ]
    },
    {
      "cell_type": "code",
      "source": [
        "n,k=list(map(int,input().split()))\n",
        "li=list(map(int,input().split()))\n",
        "if k  in li :\n",
        " print(li.index(k)+1)\n",
        "else :\n",
        "  print(-1)\n"
      ],
      "metadata": {
        "colab": {
          "base_uri": "https://localhost:8080/"
        },
        "id": "-KO5Ewl6RXXT",
        "outputId": "26389e78-8098-4b65-feeb-2415b29a8352"
      },
      "execution_count": null,
      "outputs": [
        {
          "output_type": "stream",
          "name": "stdout",
          "text": [
            "5 4\n",
            "3 2 1 2 3\n",
            "-1\n"
          ]
        }
      ]
    },
    {
      "cell_type": "code",
      "source": [
        "b=int(input())\n",
        "match b :\n",
        "  case 1 :\n",
        "    print(\"1\")\n",
        "  case 2 :\n",
        "    print(\"2\")\n",
        "  case a :\n",
        "    print(\"wrong\")"
      ],
      "metadata": {
        "id": "DftULUggHLAE",
        "colab": {
          "base_uri": "https://localhost:8080/"
        },
        "outputId": "aa99c0b7-a7f9-4543-8a06-3afd9ff6d922"
      },
      "execution_count": null,
      "outputs": [
        {
          "output_type": "stream",
          "name": "stdout",
          "text": [
            "88\n",
            "wrong\n"
          ]
        }
      ]
    },
    {
      "cell_type": "code",
      "source": [],
      "metadata": {
        "id": "5D-BVoFFMhq3"
      },
      "execution_count": null,
      "outputs": []
    },
    {
      "cell_type": "code",
      "source": [
        "balance=10000\n",
        "card=input(\"enter your card\")\n",
        "\n",
        "if card==\"card\" :\n",
        "  print(\"valid card\")\n",
        "  pin=input(\"enter the pin\")\n",
        "  if pin==\"1111\" :\n",
        "    print(\"access granted\")\n",
        "    ttype =input(\"enter W or D\")\n",
        "    if ttype==\"w\" :\n",
        "       amt=int(input(\"enter amount to withdraw\"))\n",
        "       if amt<balance :\n",
        "          balance=balance-amt\n",
        "       else :\n",
        "         print(\"Insuffucient operator\")\n",
        "\n",
        "\n",
        "  else :\n",
        "    print(\"invalid pin\")\n",
        "else :\n",
        "   print(\"invalid card\")\n"
      ],
      "metadata": {
        "id": "EZb-kjJ7MmJD"
      },
      "execution_count": null,
      "outputs": []
    },
    {
      "cell_type": "code",
      "source": [
        "for i in range(0,10,2) :\n",
        " print(i)"
      ],
      "metadata": {
        "colab": {
          "base_uri": "https://localhost:8080/"
        },
        "id": "Xs_o6W2PSPV2",
        "outputId": "da0fb094-3f0c-4744-f9d4-1ffd1ef47ff1"
      },
      "execution_count": null,
      "outputs": [
        {
          "output_type": "stream",
          "name": "stdout",
          "text": [
            "0\n",
            "2\n",
            "4\n",
            "6\n",
            "8\n"
          ]
        }
      ]
    },
    {
      "cell_type": "code",
      "source": [
        "l1=[1,2,3,4,5]\n",
        "l2=['a','b','c','d','e']\n",
        "c=zip(l1,l2)\n",
        "for i,j in c:\n",
        "  print(i,j)\n",
        "  print(*c)"
      ],
      "metadata": {
        "colab": {
          "base_uri": "https://localhost:8080/"
        },
        "id": "GFK0ThpoV1vv",
        "outputId": "7a3e4df3-22fd-4ff6-d361-efd864f4a3c9"
      },
      "execution_count": null,
      "outputs": [
        {
          "output_type": "stream",
          "name": "stdout",
          "text": [
            "1 a\n",
            "(2, 'b') (3, 'c') (4, 'd') (5, 'e')\n"
          ]
        }
      ]
    },
    {
      "cell_type": "code",
      "source": [
        "#remove duplicates from the list\n",
        "n=int(input())\n",
        "li=list(map(int,input().split()))\n",
        "new_li=list(set(li))\n",
        "print(*new_li)"
      ],
      "metadata": {
        "colab": {
          "base_uri": "https://localhost:8080/"
        },
        "id": "AnJiLaUOygOQ",
        "outputId": "c3be19fa-ca23-4528-9288-1cd130b7495c"
      },
      "execution_count": null,
      "outputs": [
        {
          "output_type": "stream",
          "name": "stdout",
          "text": [
            "4\n",
            "2 4 4 2\n",
            "2 4\n"
          ]
        }
      ]
    },
    {
      "cell_type": "code",
      "source": [
        "#print the count of searching number in the list\n",
        "n,k=list(map(int,input().split()))\n",
        "li=list(map(int,input().split()))\n",
        "if k in li :\n",
        "  print(\"yes\",li.count(k))\n",
        "if k not in li :\n",
        "  print(\"no\")\n"
      ],
      "metadata": {
        "colab": {
          "base_uri": "https://localhost:8080/"
        },
        "id": "maJX2Ufs4tPO",
        "outputId": "54977fb4-f3ee-473c-c651-364312a21d63"
      },
      "execution_count": null,
      "outputs": [
        {
          "output_type": "stream",
          "name": "stdout",
          "text": [
            "5 3\n",
            "3 3 4 4 7\n",
            "yes 2\n"
          ]
        }
      ]
    },
    {
      "cell_type": "code",
      "source": [
        "n,k=list(map(int,input().split()))\n",
        "l=[]\n",
        "for i in range(k) :\n",
        "  l.append(input())\n",
        "print(l)\n"
      ],
      "metadata": {
        "colab": {
          "base_uri": "https://localhost:8080/"
        },
        "id": "Q0K1a7VS7P_T",
        "outputId": "c3545bfe-eac5-4d55-d752-d512f4f69e85"
      },
      "execution_count": null,
      "outputs": [
        {
          "output_type": "stream",
          "name": "stdout",
          "text": [
            "2 2\n",
            "apple\n",
            "apple\n",
            "['apple', 'apple']\n"
          ]
        }
      ]
    },
    {
      "cell_type": "code",
      "source": [
        "n=int(input())\n",
        "l=list(map(int,input().split()))\n",
        "count=1\n",
        "for i in l :\n",
        "  if l.count(i)==1 :\n",
        "    print(i)\n",
        "    break\n"
      ],
      "metadata": {
        "colab": {
          "base_uri": "https://localhost:8080/"
        },
        "id": "4zvYO_vd38-T",
        "outputId": "49184275-4e97-42b7-85df-0128b7c02f9f"
      },
      "execution_count": null,
      "outputs": [
        {
          "output_type": "stream",
          "name": "stdout",
          "text": [
            "2\n",
            "2 1\n",
            "2\n"
          ]
        }
      ]
    },
    {
      "cell_type": "code",
      "source": [
        "n=int(input())\n",
        "l=list(map(int,input().split()))\n",
        "sum=0\n",
        "for i in range(0,n-1) :\n",
        "  sum+=l[i] +l[i+1]\n",
        "print(sum)"
      ],
      "metadata": {
        "colab": {
          "base_uri": "https://localhost:8080/"
        },
        "id": "vxd-yEfd8T31",
        "outputId": "7d850499-8157-4976-9ae4-8c6177b58451"
      },
      "execution_count": null,
      "outputs": [
        {
          "output_type": "stream",
          "name": "stdout",
          "text": [
            "5\n",
            "1 2 3 4 5\n",
            "24\n"
          ]
        }
      ]
    },
    {
      "cell_type": "code",
      "source": [
        "n=int(input())\n",
        "l=list(map(str,input().split()))\n",
        "for i in l :\n",
        "  if l.count('P')==1 or l.count('A')==n :\n",
        "    print(\"Blacklisted\")\n",
        "    break\n",
        "  else :\n",
        "    print(\"Not Blacklisted\")\n",
        "    break\n"
      ],
      "metadata": {
        "colab": {
          "base_uri": "https://localhost:8080/"
        },
        "id": "ET5Lmhp-DmSH",
        "outputId": "0b119f85-598c-4996-ee48-bde890a799a7"
      },
      "execution_count": null,
      "outputs": [
        {
          "output_type": "stream",
          "name": "stdout",
          "text": [
            "5\n",
            "A A A A A \n",
            "Blacklisted\n"
          ]
        }
      ]
    },
    {
      "cell_type": "code",
      "source": [
        "import array as arr\n",
        "a=arr.array('i',[2,3,4,5,8,10])\n",
        "c=arr.array('i',[1,6,14,7,9,8])\n",
        "e=arr.array('d',[2.2,1.3,4.5,6.2,7.6,8.1])\n",
        "f=arr.array('d',[4.2,6.3,3.5,7.2,2.6,9.1])\n",
        "g=e+f\n",
        "#print(g[::-1])\n",
        "print(g)\n",
        "for x in g[:-3] :\n",
        "  print(x)\n"
      ],
      "metadata": {
        "colab": {
          "base_uri": "https://localhost:8080/"
        },
        "id": "bT0puerozTfQ",
        "outputId": "343c1fde-94ae-4384-bf36-dce4ea51d578"
      },
      "execution_count": null,
      "outputs": [
        {
          "output_type": "stream",
          "name": "stdout",
          "text": [
            "array('d', [2.2, 1.3, 4.5, 6.2, 7.6, 8.1, 4.2, 6.3, 3.5, 7.2, 2.6, 9.1])\n",
            "2.2\n",
            "1.3\n",
            "4.5\n",
            "6.2\n",
            "7.6\n",
            "8.1\n",
            "4.2\n",
            "6.3\n",
            "3.5\n"
          ]
        }
      ]
    },
    {
      "cell_type": "code",
      "source": [
        "\n",
        "dict1 ={'dav':'001','john' :'002','van' :'003'}\n",
        "print(dict1)\n",
        "dic=dict(dav='001',john='002',joe='003')\n",
        "print(dic)"
      ],
      "metadata": {
        "colab": {
          "base_uri": "https://localhost:8080/",
          "height": 211
        },
        "id": "V1QBOU3Y-t_f",
        "outputId": "eb02f200-d4f1-4cd6-a5ee-2ae36903bbcc"
      },
      "execution_count": null,
      "outputs": [
        {
          "output_type": "stream",
          "name": "stdout",
          "text": [
            "{'dav': '001', 'john': '002', 'van': '003'}\n"
          ]
        },
        {
          "output_type": "error",
          "ename": "TypeError",
          "evalue": "'dict' object is not callable",
          "traceback": [
            "\u001b[0;31m---------------------------------------------------------------------------\u001b[0m",
            "\u001b[0;31mTypeError\u001b[0m                                 Traceback (most recent call last)",
            "\u001b[0;32m<ipython-input-31-e8a607413478>\u001b[0m in \u001b[0;36m<cell line: 3>\u001b[0;34m()\u001b[0m\n\u001b[1;32m      1\u001b[0m \u001b[0mdict1\u001b[0m \u001b[0;34m=\u001b[0m\u001b[0;34m{\u001b[0m\u001b[0;34m'dav'\u001b[0m\u001b[0;34m:\u001b[0m\u001b[0;34m'001'\u001b[0m\u001b[0;34m,\u001b[0m\u001b[0;34m'john'\u001b[0m \u001b[0;34m:\u001b[0m\u001b[0;34m'002'\u001b[0m\u001b[0;34m,\u001b[0m\u001b[0;34m'van'\u001b[0m \u001b[0;34m:\u001b[0m\u001b[0;34m'003'\u001b[0m\u001b[0;34m}\u001b[0m\u001b[0;34m\u001b[0m\u001b[0;34m\u001b[0m\u001b[0m\n\u001b[1;32m      2\u001b[0m \u001b[0mprint\u001b[0m\u001b[0;34m(\u001b[0m\u001b[0mdict1\u001b[0m\u001b[0;34m)\u001b[0m\u001b[0;34m\u001b[0m\u001b[0;34m\u001b[0m\u001b[0m\n\u001b[0;32m----> 3\u001b[0;31m \u001b[0mdic\u001b[0m\u001b[0;34m=\u001b[0m\u001b[0mdict\u001b[0m\u001b[0;34m(\u001b[0m\u001b[0mdav\u001b[0m\u001b[0;34m=\u001b[0m\u001b[0;34m'001'\u001b[0m\u001b[0;34m,\u001b[0m\u001b[0mjohn\u001b[0m\u001b[0;34m=\u001b[0m\u001b[0;34m'002'\u001b[0m\u001b[0;34m,\u001b[0m\u001b[0mjoe\u001b[0m\u001b[0;34m=\u001b[0m\u001b[0;34m'003'\u001b[0m\u001b[0;34m)\u001b[0m\u001b[0;34m\u001b[0m\u001b[0;34m\u001b[0m\u001b[0m\n\u001b[0m\u001b[1;32m      4\u001b[0m \u001b[0mprint\u001b[0m\u001b[0;34m(\u001b[0m\u001b[0mdic\u001b[0m\u001b[0;34m)\u001b[0m\u001b[0;34m\u001b[0m\u001b[0;34m\u001b[0m\u001b[0m\n",
            "\u001b[0;31mTypeError\u001b[0m: 'dict' object is not callable"
          ]
        }
      ]
    },
    {
      "cell_type": "code",
      "source": [
        "l,b,h=list(map(int,input().split()))\n",
        "a=2*((l*b) + (b*h) + (h*l))\n",
        "v=l*b*h\n",
        "print(a,v)\n"
      ],
      "metadata": {
        "colab": {
          "base_uri": "https://localhost:8080/"
        },
        "id": "WOnrXWtrXDC6",
        "outputId": "e52b4728-4048-40e5-e641-046b0e828df5"
      },
      "execution_count": null,
      "outputs": [
        {
          "output_type": "stream",
          "name": "stdout",
          "text": [
            "1 2 3\n",
            "22 6\n"
          ]
        }
      ]
    },
    {
      "cell_type": "code",
      "source": [
        "#reverse a number\n",
        "s=input()\n",
        "rev=s[::-1]\n",
        "print(int(rev))\n"
      ],
      "metadata": {
        "colab": {
          "base_uri": "https://localhost:8080/"
        },
        "id": "JPxegeRDJoHT",
        "outputId": "942b7f8f-23bc-4d18-a962-6313c1d94253"
      },
      "execution_count": null,
      "outputs": [
        {
          "output_type": "stream",
          "name": "stdout",
          "text": [
            "100\n",
            "1\n"
          ]
        }
      ]
    },
    {
      "cell_type": "code",
      "source": [
        "new_dict=dict(joe='001',van='002')\n",
        "new_dict.pop('joe')\n",
        "#for x,y in new_dict.items() :\n",
        "  #print(x,y)\n",
        "  #new_dict['joe']='004'\n",
        "  #new_dict['chris']='003'\n",
        "  #new_dict.pop('joe')\n",
        "print(new_dict)\n"
      ],
      "metadata": {
        "colab": {
          "base_uri": "https://localhost:8080/"
        },
        "id": "v4w5OcvUNBNR",
        "outputId": "56d11156-cba1-4360-fe38-b83d1bf2265c"
      },
      "execution_count": null,
      "outputs": [
        {
          "output_type": "stream",
          "name": "stdout",
          "text": [
            "{'van': '002'}\n"
          ]
        }
      ]
    },
    {
      "cell_type": "code",
      "source": [
        "\n",
        "for i in ['rajini','sharuk','alia'] :\n",
        "  for j  in ['kanth','khan','bhatt'] :\n",
        "    #if i=='rajini'and j=='kanth' or i=='sharuk' and j=='khan' or i=='alia' and j=='bhatt' :\n",
        "      sum_list=[a + b for a, b in zip(i,j)]\n",
        "      print(sum_list)\n",
        "      #print(i,j)\n",
        "\n"
      ],
      "metadata": {
        "colab": {
          "base_uri": "https://localhost:8080/"
        },
        "id": "a8xpsPEPqqJH",
        "outputId": "6d4108af-b47d-4b3f-8233-bfc435f807aa"
      },
      "execution_count": null,
      "outputs": [
        {
          "output_type": "stream",
          "name": "stdout",
          "text": [
            "['rk', 'aa', 'jn', 'it', 'nh']\n",
            "['rk', 'ah', 'ja', 'in']\n",
            "['rb', 'ah', 'ja', 'it', 'nt']\n",
            "['sk', 'ha', 'an', 'rt', 'uh']\n",
            "['sk', 'hh', 'aa', 'rn']\n",
            "['sb', 'hh', 'aa', 'rt', 'ut']\n",
            "['ak', 'la', 'in', 'at']\n",
            "['ak', 'lh', 'ia', 'an']\n",
            "['ab', 'lh', 'ia', 'at']\n"
          ]
        }
      ]
    },
    {
      "cell_type": "code",
      "source": [],
      "metadata": {
        "id": "SSR0-tXsT79O"
      },
      "execution_count": null,
      "outputs": []
    },
    {
      "cell_type": "code",
      "source": [
        "n,m=list(map(int,input().split()))\n",
        "sum=0\n",
        "for i in range(n,m):\n",
        "  if i%2!=0 :\n",
        "   sum+=i\n",
        "print(sum)\n"
      ],
      "metadata": {
        "colab": {
          "base_uri": "https://localhost:8080/"
        },
        "id": "LiKe2J-dT3au",
        "outputId": "3fbd3c2c-d85d-4ded-e3f3-4108da9f5f4d"
      },
      "execution_count": null,
      "outputs": [
        {
          "output_type": "stream",
          "name": "stdout",
          "text": [
            "5 10\n",
            "21\n"
          ]
        }
      ]
    },
    {
      "cell_type": "code",
      "source": [
        "#palindrome string\n",
        "s=input()\n",
        "rev=s[::-1]\n",
        "if s==rev :\n",
        "  print(1)\n",
        "else :\n",
        "  print(-1)"
      ],
      "metadata": {
        "colab": {
          "base_uri": "https://localhost:8080/"
        },
        "id": "uFPaP0Ru9k_b",
        "outputId": "8cb47ae3-f377-41f0-8bfc-2188adfb23eb"
      },
      "execution_count": null,
      "outputs": [
        {
          "output_type": "stream",
          "name": "stdout",
          "text": [
            "-1\n"
          ]
        }
      ]
    },
    {
      "cell_type": "code",
      "source": [
        "\n",
        "l=[\"I\",\"am\",\"john\",\"cena\",\"cena\",\"john\"]\n",
        "l.pop(l.index(\"cena\"))\n",
        "\n",
        "print(l)\n",
        "\n",
        "#l=list(map(str,input().split()))\n",
        "\n",
        "#for i in range(len(l)-2) :\n",
        "  #print(l[i],l[i+1])\n",
        "  #if l[i]==l[i+1] :\n",
        "   # l.remove(l[i])\n",
        "#print(*l)"
      ],
      "metadata": {
        "colab": {
          "base_uri": "https://localhost:8080/"
        },
        "id": "n-Zqup-VAX1W",
        "outputId": "c36f0677-3677-4f89-f2d3-8afab9e5d908"
      },
      "execution_count": null,
      "outputs": [
        {
          "output_type": "stream",
          "name": "stdout",
          "text": [
            "['I', 'am', 'john', 'cena', 'john']\n"
          ]
        }
      ]
    },
    {
      "cell_type": "code",
      "source": [
        "import math\n",
        "n=int(input())\n",
        "a=math.sin(math.radians(n))\n",
        "print(\"%.1f\" % a)\n"
      ],
      "metadata": {
        "colab": {
          "base_uri": "https://localhost:8080/"
        },
        "id": "pYHB-10Fjk0V",
        "outputId": "bacf1c77-bae0-4f7b-c996-f7c200ae6c34"
      },
      "execution_count": null,
      "outputs": [
        {
          "output_type": "stream",
          "name": "stdout",
          "text": [
            "30\n",
            "0.5\n"
          ]
        }
      ]
    },
    {
      "cell_type": "code",
      "source": [
        "import math\n",
        "def Log2(x):\n",
        "    if x == 0:\n",
        "        return False\n",
        "    return (math.log10(x) /\n",
        "            math.log10(2))\n",
        "def isPowerOfTwo(n):\n",
        "    return (math.ceil(Log2(n)) ==\n",
        "            math.floor(Log2(n)))\n",
        "a=int(input())\n",
        "if(isPowerOfTwo(a)):\n",
        "        print(\"yes\")\n",
        "else:\n",
        "        print(\"no\")"
      ],
      "metadata": {
        "colab": {
          "base_uri": "https://localhost:8080/"
        },
        "id": "eBdy3YGjvm6E",
        "outputId": "b93b348c-91ce-4b97-90f5-1951ed3cd7d8"
      },
      "execution_count": null,
      "outputs": [
        {
          "output_type": "stream",
          "name": "stdout",
          "text": [
            "31\n",
            "no\n"
          ]
        }
      ]
    },
    {
      "cell_type": "code",
      "source": [
        "def g1(x,d={}):\n",
        "  d[x]=x\n",
        "  return d\n",
        "print(g1(3))"
      ],
      "metadata": {
        "colab": {
          "base_uri": "https://localhost:8080/"
        },
        "id": "ULRpro3WPG36",
        "outputId": "4845aae0-1b54-4151-8450-97d64b63654e"
      },
      "execution_count": null,
      "outputs": [
        {
          "output_type": "stream",
          "name": "stdout",
          "text": [
            "{3: 3}\n"
          ]
        }
      ]
    },
    {
      "cell_type": "code",
      "source": [
        "#n=input()\n",
        "s=input()\n",
        "sum=0\n",
        "sum=int(s[0]) + int(s[1])\n",
        "if str(sum) in s :\n",
        "  print(1)\n",
        "else :\n",
        "  print(0)"
      ],
      "metadata": {
        "colab": {
          "base_uri": "https://localhost:8080/"
        },
        "id": "PMnYPyRp01lS",
        "outputId": "cb6dfc52-7096-426c-902e-d9798c25b5e3"
      },
      "execution_count": null,
      "outputs": [
        {
          "output_type": "stream",
          "name": "stdout",
          "text": [
            "yes\n"
          ]
        }
      ]
    },
    {
      "cell_type": "code",
      "source": [
        "#mathematics 96\n",
        "#n,k=list(map(int,input().split()))\n",
        "#l=list(map(int,input().split()))\n",
        "n,k=7,250\n",
        "l=[1,32,200,2,50,100,10]\n",
        "#n,k=list(map(int,input().split()))\n",
        "#l=list(map(int,input().split()))\n",
        "m=[]\n",
        "for i in l:\n",
        "   if i<=k :\n",
        "     m.append(i)\n",
        "print(*m)\n",
        "sum=0\n",
        "count=0\n",
        "for i in m:\n",
        "  sum+=i\n",
        "  count+=1\n",
        "  if sum>k:\n",
        "    break\n",
        "print(sum)\n",
        "print(count)\n",
        "\n"
      ],
      "metadata": {
        "colab": {
          "base_uri": "https://localhost:8080/"
        },
        "id": "1vaMpX20Bos0",
        "outputId": "97dc2b6c-fead-4e4b-aa1d-f3368c797185"
      },
      "execution_count": null,
      "outputs": [
        {
          "output_type": "stream",
          "name": "stdout",
          "text": [
            "1 32 200 2 50 100 10\n",
            "285\n",
            "5\n"
          ]
        }
      ]
    },
    {
      "cell_type": "code",
      "source": [
        "l,b=list(map(float,input().split()))\n",
        "a=l*b\n",
        "print(\"{:.5f}\".format(a))\n",
        "\n",
        "\n"
      ],
      "metadata": {
        "colab": {
          "base_uri": "https://localhost:8080/"
        },
        "id": "6jK_kNrGCgVS",
        "outputId": "f8e5bb4e-0e2d-4698-f28f-2400c5f79992"
      },
      "execution_count": null,
      "outputs": [
        {
          "output_type": "stream",
          "name": "stdout",
          "text": [
            "2.5432 6.7654\n",
            "17.20577\n"
          ]
        }
      ]
    },
    {
      "cell_type": "code",
      "source": [
        "n1,n2=list(map(int,input().split()))\n",
        "diff=n1-n2\n",
        "if diff%2==0 :\n",
        "  print(\"even\")\n",
        "else :\n",
        "  print(\"odd\")"
      ],
      "metadata": {
        "colab": {
          "base_uri": "https://localhost:8080/"
        },
        "id": "6_H8zLfeGX_e",
        "outputId": "c2669234-f54f-4b00-d489-5dc836465121"
      },
      "execution_count": null,
      "outputs": [
        {
          "output_type": "stream",
          "name": "stdout",
          "text": [
            "6 3\n",
            "odd\n"
          ]
        }
      ]
    },
    {
      "cell_type": "code",
      "source": [
        "a,b,x=list(map(int,input().split()))\n",
        "y=((a*x) + b)\n",
        "print(y)"
      ],
      "metadata": {
        "colab": {
          "base_uri": "https://localhost:8080/"
        },
        "id": "0j5wA6MuKv5Z",
        "outputId": "520a1d28-fc06-405f-be1a-c653ec5ca454"
      },
      "execution_count": null,
      "outputs": [
        {
          "output_type": "stream",
          "name": "stdout",
          "text": [
            "3 5 2\n",
            "11\n"
          ]
        }
      ]
    },
    {
      "cell_type": "code",
      "source": [
        "\n",
        "for j in range(2) :\n",
        "  for i in range(0,10) :\n",
        "     if i==5 :\n",
        "      continue\n",
        "     print(i)"
      ],
      "metadata": {
        "colab": {
          "base_uri": "https://localhost:8080/"
        },
        "id": "T-uuCdlhJlAA",
        "outputId": "ba4a66bf-5c3d-4694-ec37-1e63515b9671"
      },
      "execution_count": null,
      "outputs": [
        {
          "output_type": "stream",
          "name": "stdout",
          "text": [
            "0\n",
            "1\n",
            "2\n",
            "3\n",
            "4\n",
            "6\n",
            "7\n",
            "8\n",
            "9\n",
            "0\n",
            "1\n",
            "2\n",
            "3\n",
            "4\n",
            "6\n",
            "7\n",
            "8\n",
            "9\n"
          ]
        }
      ]
    },
    {
      "cell_type": "code",
      "source": [
        "for i in range(0,100) :\n",
        "  if i%10!=0 :\n",
        "   print(i)"
      ],
      "metadata": {
        "colab": {
          "base_uri": "https://localhost:8080/"
        },
        "id": "b_1CKE93MjSO",
        "outputId": "bbaeb54b-dc1d-4fc4-abf8-b0bbd6d5fc4b"
      },
      "execution_count": null,
      "outputs": [
        {
          "output_type": "stream",
          "name": "stdout",
          "text": [
            "1\n",
            "2\n",
            "3\n",
            "4\n",
            "5\n",
            "6\n",
            "7\n",
            "8\n",
            "9\n",
            "11\n",
            "12\n",
            "13\n",
            "14\n",
            "15\n",
            "16\n",
            "17\n",
            "18\n",
            "19\n",
            "21\n",
            "22\n",
            "23\n",
            "24\n",
            "25\n",
            "26\n",
            "27\n",
            "28\n",
            "29\n",
            "31\n",
            "32\n",
            "33\n",
            "34\n",
            "35\n",
            "36\n",
            "37\n",
            "38\n",
            "39\n",
            "41\n",
            "42\n",
            "43\n",
            "44\n",
            "45\n",
            "46\n",
            "47\n",
            "48\n",
            "49\n",
            "51\n",
            "52\n",
            "53\n",
            "54\n",
            "55\n",
            "56\n",
            "57\n",
            "58\n",
            "59\n",
            "61\n",
            "62\n",
            "63\n",
            "64\n",
            "65\n",
            "66\n",
            "67\n",
            "68\n",
            "69\n",
            "71\n",
            "72\n",
            "73\n",
            "74\n",
            "75\n",
            "76\n",
            "77\n",
            "78\n",
            "79\n",
            "81\n",
            "82\n",
            "83\n",
            "84\n",
            "85\n",
            "86\n",
            "87\n",
            "88\n",
            "89\n",
            "91\n",
            "92\n",
            "93\n",
            "94\n",
            "95\n",
            "96\n",
            "97\n",
            "98\n",
            "99\n"
          ]
        }
      ]
    },
    {
      "cell_type": "code",
      "source": [
        "a=0\n",
        "while a<10 :\n",
        "      print(a)\n",
        "      a+=1"
      ],
      "metadata": {
        "colab": {
          "base_uri": "https://localhost:8080/"
        },
        "id": "c8H8ublKQYfi",
        "outputId": "f6a6ae14-695b-43f4-e1e7-cdecad02a1c0"
      },
      "execution_count": null,
      "outputs": [
        {
          "output_type": "stream",
          "name": "stdout",
          "text": [
            "0\n",
            "1\n",
            "2\n",
            "3\n",
            "4\n",
            "5\n",
            "6\n",
            "7\n",
            "8\n",
            "9\n"
          ]
        }
      ]
    },
    {
      "cell_type": "code",
      "source": [],
      "metadata": {
        "colab": {
          "base_uri": "https://localhost:8080/",
          "height": 106
        },
        "id": "S-jT6Q8_QNGm",
        "outputId": "8ea864ec-9fa7-43f8-94e4-e26502c9aa29"
      },
      "execution_count": null,
      "outputs": [
        {
          "output_type": "error",
          "ename": "IndentationError",
          "evalue": "unexpected indent (<ipython-input-31-bf079735595a>, line 2)",
          "traceback": [
            "\u001b[0;36m  File \u001b[0;32m\"<ipython-input-31-bf079735595a>\"\u001b[0;36m, line \u001b[0;32m2\u001b[0m\n\u001b[0;31m    while a<10 :\u001b[0m\n\u001b[0m    ^\u001b[0m\n\u001b[0;31mIndentationError\u001b[0m\u001b[0;31m:\u001b[0m unexpected indent\n"
          ]
        }
      ]
    },
    {
      "cell_type": "code",
      "source": [
        "a=0\n",
        "b=0\n",
        "while a<5 :\n",
        "  while b<5:\n",
        "    print(a)\n",
        "    b=b+1\n",
        "  a=a+1\n"
      ],
      "metadata": {
        "colab": {
          "base_uri": "https://localhost:8080/"
        },
        "id": "i2ELHKrjTLRv",
        "outputId": "283d023b-b0fc-4423-dd13-a0bcef8df55d"
      },
      "execution_count": null,
      "outputs": [
        {
          "output_type": "stream",
          "name": "stdout",
          "text": [
            "0\n",
            "0\n",
            "0\n",
            "0\n",
            "0\n",
            "1\n",
            "1\n",
            "1\n",
            "1\n",
            "1\n",
            "2\n",
            "2\n",
            "2\n",
            "2\n",
            "2\n",
            "3\n",
            "3\n",
            "3\n",
            "3\n",
            "3\n",
            "4\n",
            "4\n",
            "4\n",
            "4\n",
            "4\n"
          ]
        }
      ]
    },
    {
      "cell_type": "code",
      "source": [
        "a=1+2j\n",
        "print(type(a))"
      ],
      "metadata": {
        "colab": {
          "base_uri": "https://localhost:8080/"
        },
        "id": "Yi2SJq-IURbV",
        "outputId": "5fb642f8-0068-4b9c-f511-319418762054"
      },
      "execution_count": null,
      "outputs": [
        {
          "output_type": "stream",
          "name": "stdout",
          "text": [
            "<class 'complex'>\n"
          ]
        }
      ]
    },
    {
      "cell_type": "code",
      "source": [
        "n=int(input())\n",
        "l=list(map(int,input().split()))\n",
        "m=[]\n",
        "for i in range(n-1) :\n",
        "  m.append(max(l[i], l[i+1]))\n",
        "print(*m)"
      ],
      "metadata": {
        "id": "wYulszBC_D30"
      },
      "execution_count": null,
      "outputs": []
    },
    {
      "cell_type": "code",
      "source": [
        "n,k=list(map(int,input().split()))\n",
        "arr=list(map(int,input().split()))\n",
        "for i in arr :\n",
        "  if k in arr :\n",
        "     arr.remove(k)\n",
        "if len(arr)==n :\n",
        " print(-1)\n",
        "else :\n",
        "  print(*arr)"
      ],
      "metadata": {
        "colab": {
          "base_uri": "https://localhost:8080/"
        },
        "id": "KnCm2UIvZuON",
        "outputId": "a4dd2c74-b44e-4119-cdc6-b2bacf520bed"
      },
      "execution_count": null,
      "outputs": [
        {
          "output_type": "stream",
          "name": "stdout",
          "text": [
            "6 43\n",
            "5 7 4 4 6 8\n",
            "-1\n"
          ]
        }
      ]
    },
    {
      "cell_type": "code",
      "source": [
        "n,k=list(map(int,input().split()))\n",
        "power=0\n",
        "power=n**k\n",
        "print(power)"
      ],
      "metadata": {
        "colab": {
          "base_uri": "https://localhost:8080/"
        },
        "id": "FlXkl6TtksSz",
        "outputId": "a756d58c-c47b-4d47-e686-0bb4a2747821"
      },
      "execution_count": null,
      "outputs": [
        {
          "output_type": "stream",
          "name": "stdout",
          "text": [
            "3 3\n",
            "27\n"
          ]
        }
      ]
    },
    {
      "cell_type": "code",
      "source": [
        "n=int(input())\n",
        "for i in range(n,n+5) :\n",
        "  if i%n==0 :\n",
        "    print(i,end=\" \")"
      ],
      "metadata": {
        "colab": {
          "base_uri": "https://localhost:8080/"
        },
        "id": "6rRY2JDNlOEk",
        "outputId": "8badc2ce-3a65-42e9-f3aa-a5e7b416d34e"
      },
      "execution_count": null,
      "outputs": [
        {
          "output_type": "stream",
          "name": "stdout",
          "text": [
            "3\n",
            "3 6 "
          ]
        }
      ]
    },
    {
      "cell_type": "code",
      "source": [
        "def CountSquares(m,n):\n",
        "    cnt = 0\n",
        "    for i in range (m, n + 1):\n",
        "        j = 1;\n",
        "        while j * j <= i:\n",
        "            if j * j == i:\n",
        "                 cnt = cnt + 1\n",
        "            j = j + 1\n",
        "        i = i + 1\n",
        "    return cnt\n",
        "a,b=list(map(int,input().split()))\n",
        "cnt=CountSquares(a, b)\n",
        "if cnt==0:\n",
        " print(-1)\n",
        "else :\n",
        "  print(cnt)\n",
        "\n"
      ],
      "metadata": {
        "id": "93kvPBRl9ai7",
        "colab": {
          "base_uri": "https://localhost:8080/",
          "height": 228
        },
        "outputId": "98189a81-f278-4c5d-a44a-a88cda71de80"
      },
      "execution_count": null,
      "outputs": [
        {
          "name": "stdout",
          "output_type": "stream",
          "text": [
            "5\n"
          ]
        },
        {
          "output_type": "error",
          "ename": "ValueError",
          "evalue": "not enough values to unpack (expected 2, got 1)",
          "traceback": [
            "\u001b[0;31m---------------------------------------------------------------------------\u001b[0m",
            "\u001b[0;31mValueError\u001b[0m                                Traceback (most recent call last)",
            "\u001b[0;32m<ipython-input-2-a808ccb62b61>\u001b[0m in \u001b[0;36m<cell line: 11>\u001b[0;34m()\u001b[0m\n\u001b[1;32m      9\u001b[0m         \u001b[0mi\u001b[0m \u001b[0;34m=\u001b[0m \u001b[0mi\u001b[0m \u001b[0;34m+\u001b[0m \u001b[0;36m1\u001b[0m\u001b[0;34m\u001b[0m\u001b[0;34m\u001b[0m\u001b[0m\n\u001b[1;32m     10\u001b[0m     \u001b[0;32mreturn\u001b[0m \u001b[0mcnt\u001b[0m\u001b[0;34m\u001b[0m\u001b[0;34m\u001b[0m\u001b[0m\n\u001b[0;32m---> 11\u001b[0;31m \u001b[0ma\u001b[0m\u001b[0;34m,\u001b[0m\u001b[0mb\u001b[0m\u001b[0;34m=\u001b[0m\u001b[0mlist\u001b[0m\u001b[0;34m(\u001b[0m\u001b[0mmap\u001b[0m\u001b[0;34m(\u001b[0m\u001b[0mint\u001b[0m\u001b[0;34m,\u001b[0m\u001b[0minput\u001b[0m\u001b[0;34m(\u001b[0m\u001b[0;34m)\u001b[0m\u001b[0;34m.\u001b[0m\u001b[0msplit\u001b[0m\u001b[0;34m(\u001b[0m\u001b[0;34m)\u001b[0m\u001b[0;34m)\u001b[0m\u001b[0;34m)\u001b[0m\u001b[0;34m\u001b[0m\u001b[0;34m\u001b[0m\u001b[0m\n\u001b[0m\u001b[1;32m     12\u001b[0m \u001b[0mcnt\u001b[0m\u001b[0;34m=\u001b[0m\u001b[0mCountSquares\u001b[0m\u001b[0;34m(\u001b[0m\u001b[0ma\u001b[0m\u001b[0;34m,\u001b[0m \u001b[0mb\u001b[0m\u001b[0;34m)\u001b[0m\u001b[0;34m\u001b[0m\u001b[0;34m\u001b[0m\u001b[0m\n\u001b[1;32m     13\u001b[0m \u001b[0;32mif\u001b[0m \u001b[0mcnt\u001b[0m\u001b[0;34m==\u001b[0m\u001b[0;36m0\u001b[0m\u001b[0;34m:\u001b[0m\u001b[0;34m\u001b[0m\u001b[0;34m\u001b[0m\u001b[0m\n",
            "\u001b[0;31mValueError\u001b[0m: not enough values to unpack (expected 2, got 1)"
          ]
        }
      ]
    },
    {
      "cell_type": "code",
      "source": [
        "def check(expression):\n",
        "\n",
        "    open_tup = tuple('({[')\n",
        "    close_tup = tuple(')}]')\n",
        "    map = dict(zip(open_tup, close_tup))\n",
        "    queue = []\n",
        "\n",
        "    for i in expression:\n",
        "        if i in open_tup:\n",
        "            queue.append(map[i])\n",
        "        elif i in close_tup:\n",
        "            if not queue or i != queue.pop():\n",
        "                print(0)\n",
        "                break\n",
        "    if not queue:\n",
        "        print(1)\n",
        "    else:\n",
        "        print(0)\n",
        "\n",
        "\n",
        "string =str(input())\n",
        "check(string)"
      ],
      "metadata": {
        "colab": {
          "base_uri": "https://localhost:8080/"
        },
        "id": "AqZtMX7-BQVM",
        "outputId": "a944cbf6-ef1f-49e8-8454-29ab691eddd0"
      },
      "execution_count": null,
      "outputs": [
        {
          "output_type": "stream",
          "name": "stdout",
          "text": [
            "))))))))(((((((\n",
            "0\n",
            "1\n"
          ]
        }
      ]
    },
    {
      "cell_type": "code",
      "source": [
        "lst=[1,11,6,7,3,4]\n",
        "lst.sort()\n",
        "print(lst)\n",
        "lst.sort(reverse=True)\n",
        "print(lst)\n",
        "lst.sort()\n",
        "print(lst)\n",
        "lst.reverse()\n",
        "print(lst)\n"
      ],
      "metadata": {
        "colab": {
          "base_uri": "https://localhost:8080/"
        },
        "id": "n810GGvbD-z8",
        "outputId": "4a87ddb6-e910-47aa-c5b9-485c08f24a3a"
      },
      "execution_count": null,
      "outputs": [
        {
          "output_type": "stream",
          "name": "stdout",
          "text": [
            "[1, 3, 4, 6, 7, 11]\n",
            "[11, 7, 6, 4, 3, 1]\n",
            "[1, 3, 4, 6, 7, 11]\n",
            "[11, 7, 6, 4, 3, 1]\n"
          ]
        }
      ]
    },
    {
      "cell_type": "code",
      "source": [
        "s=\"first time\"\n",
        "print(f\"we are learning python {s}\")\n",
        "print(\"we are learning python {a}\".format(a=\"second time \"))"
      ],
      "metadata": {
        "colab": {
          "base_uri": "https://localhost:8080/"
        },
        "id": "DOv9Cc5qEdr_",
        "outputId": "ef49344a-c396-4837-c951-394331b9edb0"
      },
      "execution_count": null,
      "outputs": [
        {
          "output_type": "stream",
          "name": "stdout",
          "text": [
            "we are learning python first time\n",
            "we are learning python second time \n"
          ]
        }
      ]
    },
    {
      "cell_type": "code",
      "source": [
        "#To chk if the string is made up of only 3 characters\n",
        "s=input()\n",
        "j=0\n",
        "x=s[j]\n",
        "c=1\n",
        "for i in s :\n",
        "  if i==x :\n",
        "    continue\n",
        "  else :\n",
        "    c+=1\n",
        "    x=i\n",
        "if c==3 :\n",
        "  print(\"wonder\")\n",
        "else :\n",
        "  print(-1)\n"
      ],
      "metadata": {
        "colab": {
          "base_uri": "https://localhost:8080/"
        },
        "id": "WYVrFtcgvWu5",
        "outputId": "496e1e73-de03-4c4c-8339-0a7897b12dcd"
      },
      "execution_count": null,
      "outputs": [
        {
          "output_type": "stream",
          "name": "stdout",
          "text": [
            "wonder\n"
          ]
        }
      ]
    },
    {
      "cell_type": "code",
      "source": [
        "vowels=\"aeiouAEIOU\"\n",
        "s=input()\n",
        "l=[]\n",
        "s1=\"\"\n",
        "count=0\n",
        "for i in s:\n",
        " if i not in vowels :\n",
        "    s1+=i\n",
        " else :\n",
        "   count+=1\n",
        "if count==len(s) :\n",
        "  print(-1)\n",
        "else :\n",
        "   print(s1)\n"
      ],
      "metadata": {
        "colab": {
          "base_uri": "https://localhost:8080/"
        },
        "id": "3Y-3XHd670rn",
        "outputId": "760a43cd-2630-47f6-d7c0-8e07224488e5"
      },
      "execution_count": null,
      "outputs": [
        {
          "output_type": "stream",
          "name": "stdout",
          "text": [
            "aeiu\n",
            "-1\n"
          ]
        }
      ]
    },
    {
      "cell_type": "code",
      "source": [
        "#print sum of digits in a string\n",
        "#s=\"AC30BD40\"\n",
        "s=input()\n",
        "s1=\"\"\n",
        "sum=0\n",
        "for i in s :\n",
        "  if i.isdigit()==True :\n",
        "    sum+=int(i)\n",
        "  elif i.isalpha()==True :\n",
        "    s1+=i\n",
        "print(s1+str(sum))\n",
        "\n"
      ],
      "metadata": {
        "colab": {
          "base_uri": "https://localhost:8080/"
        },
        "id": "txwkpWKQ3gnb",
        "outputId": "6099ebd6-5754-46ef-c845-5ec20391e767"
      },
      "execution_count": null,
      "outputs": [
        {
          "output_type": "stream",
          "name": "stdout",
          "text": [
            "AC30BD40\n",
            "ACBD7\n"
          ]
        }
      ]
    },
    {
      "cell_type": "code",
      "source": [
        "#reverse a string\n",
        "#s=str(input())\n",
        "s=\"Jennyfer\"\n",
        "s=str(input())\n",
        "rev=s[::-1]\n",
        "print(rev.title())"
      ],
      "metadata": {
        "colab": {
          "base_uri": "https://localhost:8080/"
        },
        "id": "4R0bs9RB58zb",
        "outputId": "9d0d5d42-fa0b-4aad-923b-b97fc924cdfe"
      },
      "execution_count": null,
      "outputs": [
        {
          "output_type": "stream",
          "name": "stdout",
          "text": [
            "Refynnej\n"
          ]
        }
      ]
    },
    {
      "cell_type": "code",
      "source": [
        "#s=\"HXTPS2142R\"\n",
        "s=input()\n",
        "s1=s[0:5]\n",
        "s2=s[5:9]\n",
        "if s.isupper()==True and s1.isalpha() and s2.isdigit() and len(s)==10:\n",
        "  print(\"pan\")\n",
        "else :\n",
        "  print(\"not pan\")\n",
        "\n",
        "\n"
      ],
      "metadata": {
        "colab": {
          "base_uri": "https://localhost:8080/"
        },
        "id": "3lC6QUex7PPL",
        "outputId": "e30d3e10-23bb-4b20-e0cf-f240f1f0fd98"
      },
      "execution_count": null,
      "outputs": [
        {
          "output_type": "stream",
          "name": "stdout",
          "text": [
            "HXTPS2142R\n",
            "pan\n"
          ]
        }
      ]
    },
    {
      "cell_type": "code",
      "source": [
        "s=\"mississipie\"\n",
        "s=input()\n",
        "s1=\"\"\n",
        "for i in s :\n",
        "    if s.count(i)==1 :\n",
        "      s1=s1 + i\n",
        "print(s1)\n"
      ],
      "metadata": {
        "colab": {
          "base_uri": "https://localhost:8080/"
        },
        "id": "-LWfweoS_RzU",
        "outputId": "58cdfcb8-d5aa-4f36-b5cc-a3c60827c128"
      },
      "execution_count": null,
      "outputs": [
        {
          "output_type": "stream",
          "name": "stdout",
          "text": [
            "mississipe\n",
            "mpe\n"
          ]
        }
      ]
    },
    {
      "cell_type": "code",
      "source": [
        "#s=\"amz\"\n",
        "s=input()\n",
        "m=len(s)/2\n",
        "if (s[0]=='a' or s[0]=='A') and (s[len(s)-1]=='z'\n",
        "                      or s[len(s)-1]=='Z') and (s[int(m)]=='m' or s[int(m)]=='M') :\n",
        "  print(1)\n",
        "else :\n",
        "  print(0)"
      ],
      "metadata": {
        "colab": {
          "base_uri": "https://localhost:8080/"
        },
        "id": "PNW0aeCKF-I6",
        "outputId": "3d0dbffb-3422-443f-dba7-689acccf780f"
      },
      "execution_count": null,
      "outputs": [
        {
          "output_type": "stream",
          "name": "stdout",
          "text": [
            "1\n"
          ]
        }
      ]
    },
    {
      "cell_type": "code",
      "source": [
        "#Codekata string 23\n",
        "#s=\"aaaaa\"\n",
        "\n",
        "s=input()\n",
        "for i in s :\n",
        "  if s.count(i)==1 :\n",
        "    print(i)\n",
        "    break\n",
        "  else :\n",
        "    if s.count(i)==len(s) :\n",
        "      print(-1)\n",
        "      break"
      ],
      "metadata": {
        "colab": {
          "base_uri": "https://localhost:8080/"
        },
        "id": "Ejew897DKTQI",
        "outputId": "f36fcb9d-6d13-4142-8b92-71940536854b"
      },
      "execution_count": null,
      "outputs": [
        {
          "output_type": "stream",
          "name": "stdout",
          "text": [
            "apple\n",
            "a\n"
          ]
        }
      ]
    },
    {
      "cell_type": "code",
      "source": [
        "s=\"XCODE\"\n",
        "s=input()\n",
        "str_even=\"\"\n",
        "str_odd=\"\"\n",
        "concat=\"\"\n",
        "for i in range(0,len(s)) :\n",
        "  if i%2!=0 :\n",
        "    str_odd+=s[i]\n",
        "  else :\n",
        "    str_even+=s[i]\n",
        "concat=str_even +\" \" +str_odd\n",
        "print(concat)\n",
        "\n"
      ],
      "metadata": {
        "colab": {
          "base_uri": "https://localhost:8080/"
        },
        "id": "8qorNbp2MsSz",
        "outputId": "2fef835b-c603-4cf3-9839-b0c9ac607b5e"
      },
      "execution_count": null,
      "outputs": [
        {
          "output_type": "stream",
          "name": "stdout",
          "text": [
            "XOE CD\n"
          ]
        }
      ]
    },
    {
      "cell_type": "code",
      "source": [
        "#s=\"abcddee\"\n",
        "s=input()\n",
        "l=[]\n",
        "count=0\n",
        "for i in s:\n",
        "  if s.count(i)>1 :\n",
        "    l.append(i)\n",
        "  elif s.count(i)==1 :\n",
        "    count+=1\n",
        "if count==len(s) :\n",
        "  print(-1)\n",
        "else :\n",
        "  print(*list(set(l)))\n"
      ],
      "metadata": {
        "colab": {
          "base_uri": "https://localhost:8080/"
        },
        "id": "E6-TFObXkfDV",
        "outputId": "f8d45607-efdf-4279-e9d9-9ebff48c520c"
      },
      "execution_count": null,
      "outputs": [
        {
          "output_type": "stream",
          "name": "stdout",
          "text": [
            "abcddee\n",
            "d e\n"
          ]
        }
      ]
    },
    {
      "cell_type": "code",
      "source": [
        "#l=list(map(str,input().split()))\n",
        "#l=[\"abcd\",\"efgh\",\"ijkl\"]\n",
        "l=list(map(str,input().split()))\n",
        "new_l=[]\n",
        "for i in range(0,len(l)) :\n",
        "  if i%2!=0 :\n",
        "    new_l.append(l[i].lower())\n",
        "  else:\n",
        "    new_l.append(l[i].upper())\n",
        "print(*new_l)"
      ],
      "metadata": {
        "colab": {
          "base_uri": "https://localhost:8080/"
        },
        "id": "YyzSvfgNyFyl",
        "outputId": "b0415bc3-22f7-4563-facf-9e9ea758263e"
      },
      "execution_count": null,
      "outputs": [
        {
          "output_type": "stream",
          "name": "stdout",
          "text": [
            "ABCD efgh IJKL\n"
          ]
        }
      ]
    },
    {
      "cell_type": "code",
      "source": [
        "name=input(\"Enter your Name :\")\n",
        "if name.isspace()!=True and name.isalpha()==True :\n",
        "  print(name)\n",
        "else :\n",
        "  print(\"Invalid name\")\n",
        "phone_no=input(\"Enter your Phone no. :\")\n",
        "if phone_no.isdigit()==True and len(phone_no)==10 :\n",
        "  print(phone_no)\n",
        "else :\n",
        "  print(\"Invalid phone no.\")\n",
        "at=\"@._\"\n",
        "email_id=input(\"Enter your Email ID :\")\n",
        "#if email_id in at and email_id.isalpha()==True :\n",
        "if email_id in at or at in email_id :\n",
        "  print(email_id)\n",
        "else :\n",
        "  print(\"Invalid email ID\")\n",
        "\n"
      ],
      "metadata": {
        "id": "mIMQOo8O7GtU",
        "colab": {
          "base_uri": "https://localhost:8080/"
        },
        "outputId": "8fa763b5-f63e-4f92-a49f-9ec8fc8f9b4e"
      },
      "execution_count": null,
      "outputs": [
        {
          "output_type": "stream",
          "name": "stdout",
          "text": [
            "Enter your Name :jaa\n",
            "jaa\n",
            "Enter your Phone no. :8888888888\n",
            "8888888888\n",
            "Enter your Email ID :jaya.ss@gmail.com\n",
            "Invalid email ID\n"
          ]
        }
      ]
    },
    {
      "cell_type": "code",
      "source": [
        "def myfun() :\n",
        "  print(\"hello\")\n",
        "  print(\"world\")\n",
        "  return \"ret\"\n",
        "a=myfun()\n",
        "print(a)\n"
      ],
      "metadata": {
        "colab": {
          "base_uri": "https://localhost:8080/"
        },
        "id": "1puY1GU-GLy6",
        "outputId": "f48902f6-25ec-4947-d285-eef7b1065f21"
      },
      "execution_count": null,
      "outputs": [
        {
          "output_type": "stream",
          "name": "stdout",
          "text": [
            "hello\n",
            "world\n",
            "ret\n"
          ]
        }
      ]
    },
    {
      "cell_type": "code",
      "source": [
        "def func(word) :\n",
        "  a=word.upper()\n",
        "  b=len(word)\n",
        "  return a + \"is of length \" +str(b)\n",
        "func(\"this is python \")"
      ],
      "metadata": {
        "colab": {
          "base_uri": "https://localhost:8080/",
          "height": 35
        },
        "id": "sr-YydSSN-wQ",
        "outputId": "71152052-a68b-41a1-ceb5-f01658a48cb1"
      },
      "execution_count": null,
      "outputs": [
        {
          "output_type": "execute_result",
          "data": {
            "text/plain": [
              "'THIS IS PYTHON is of length 15'"
            ],
            "application/vnd.google.colaboratory.intrinsic+json": {
              "type": "string"
            }
          },
          "metadata": {},
          "execution_count": 21
        }
      ]
    },
    {
      "cell_type": "code",
      "source": [
        "def largest(a,b,c) :\n",
        "  print(type(a))\n",
        "  if type(a)==\"int\" and type(b)==\"int\" and type(c)==\"int\" :\n",
        "    if a > b and a > c :\n",
        "       return a\n",
        "    if b> a and b>c :\n",
        "       return b\n",
        "    if c > a and c > b :\n",
        "       return c\n",
        "  else :\n",
        "    return \"data type problem\"\n",
        "print(largest(33,66,77))\n"
      ],
      "metadata": {
        "colab": {
          "base_uri": "https://localhost:8080/"
        },
        "id": "mqz0Z9QpRuhU",
        "outputId": "266d171c-9793-4665-b23a-a3f6da7303df"
      },
      "execution_count": null,
      "outputs": [
        {
          "output_type": "stream",
          "name": "stdout",
          "text": [
            "<class 'int'>\n",
            "data type problem\n"
          ]
        }
      ]
    },
    {
      "cell_type": "code",
      "source": [
        "def func(name,acc,*values):\n",
        "  print(name,acc)"
      ],
      "metadata": {
        "id": "eP9hc2JLVrKU"
      },
      "execution_count": null,
      "outputs": []
    },
    {
      "cell_type": "code",
      "source": [
        "def kw(**values) :\n",
        "  print(values)\n",
        "  print(values.keys())\n",
        "  print(values.values())\n",
        "  for i,j in values.items() :\n",
        "    print(len(j),len(i))\n",
        "kw(name=\"jaya\",tech=\"data\",city=\"chennai\")"
      ],
      "metadata": {
        "colab": {
          "base_uri": "https://localhost:8080/"
        },
        "id": "c44vnvcfYCT-",
        "outputId": "4fe11573-3706-4c6f-a2f7-19938030e0c1"
      },
      "execution_count": null,
      "outputs": [
        {
          "output_type": "stream",
          "name": "stdout",
          "text": [
            "{'name': 'jaya', 'tech': 'data', 'city': 'chennai'}\n",
            "dict_keys(['name', 'tech', 'city'])\n",
            "dict_values(['jaya', 'data', 'chennai'])\n"
          ]
        }
      ]
    },
    {
      "cell_type": "code",
      "source": [
        "x=\"test\"\n",
        "def func() :\n",
        "  global x\n",
        "  y=x*2\n",
        "  return y\n",
        "print(x)\n",
        "print(func())"
      ],
      "metadata": {
        "colab": {
          "base_uri": "https://localhost:8080/"
        },
        "id": "tzfDwbnFundB",
        "outputId": "caffb699-82c3-48d1-a06c-f6906e8febe1"
      },
      "execution_count": null,
      "outputs": [
        {
          "output_type": "stream",
          "name": "stdout",
          "text": [
            "test\n",
            "testtest\n"
          ]
        }
      ]
    },
    {
      "cell_type": "code",
      "source": [
        "def fact(n):\n",
        "  if n in (0,1) :\n",
        "   return 1\n",
        "  else :\n",
        "    return n * fact(n-1)\n",
        "print(fact(5))"
      ],
      "metadata": {
        "colab": {
          "base_uri": "https://localhost:8080/"
        },
        "id": "14pEUH45_E7f",
        "outputId": "86525bd6-74b3-4e80-ae5a-259680cd5dca"
      },
      "execution_count": null,
      "outputs": [
        {
          "output_type": "stream",
          "name": "stdout",
          "text": [
            "120\n"
          ]
        }
      ]
    },
    {
      "cell_type": "code",
      "source": [
        "cool= lambda x : \"even\" if x%2==0 else \"odd\"\n",
        "cool(5)"
      ],
      "metadata": {
        "colab": {
          "base_uri": "https://localhost:8080/",
          "height": 35
        },
        "id": "cPVj-pV5mDnH",
        "outputId": "7b6a8d4a-8aec-46eb-f50d-29a15f3e7aec"
      },
      "execution_count": null,
      "outputs": [
        {
          "output_type": "execute_result",
          "data": {
            "text/plain": [
              "'odd'"
            ],
            "application/vnd.google.colaboratory.intrinsic+json": {
              "type": "string"
            }
          },
          "metadata": {},
          "execution_count": 3
        }
      ]
    },
    {
      "cell_type": "code",
      "source": [
        "a=lambda x : x + 10\n",
        "a(3)\n"
      ],
      "metadata": {
        "colab": {
          "base_uri": "https://localhost:8080/"
        },
        "id": "nL2A_bcSnccx",
        "outputId": "92667ed0-875a-4a71-a4b7-7236d1e41fc2"
      },
      "execution_count": null,
      "outputs": [
        {
          "output_type": "execute_result",
          "data": {
            "text/plain": [
              "13"
            ]
          },
          "metadata": {},
          "execution_count": 4
        }
      ]
    },
    {
      "cell_type": "code",
      "source": [
        "ages=[23,21,6,12]\n",
        "def adult(x) :\n",
        " if x<18 :\n",
        "   return True\n",
        " else :\n",
        "   return False\n",
        "adults=filter(adult,ages)"
      ],
      "metadata": {
        "id": "opytbPzKnovY"
      },
      "execution_count": null,
      "outputs": []
    },
    {
      "cell_type": "code",
      "source": [
        "li=list(map(str,input().split()))\n",
        "count=0\n",
        "for i in li :\n",
        "  print(li.count(i))\n",
        "#print(count)"
      ],
      "metadata": {
        "colab": {
          "base_uri": "https://localhost:8080/"
        },
        "id": "EcP2WXo8UG_p",
        "outputId": "dbe03c9e-b8a1-4443-f503-cc072961496b"
      },
      "execution_count": null,
      "outputs": [
        {
          "output_type": "stream",
          "name": "stdout",
          "text": [
            "john johnny jackie johnny john jackie jamie jamie john johnny jamie johnny john\n",
            "4\n",
            "4\n",
            "2\n",
            "4\n",
            "4\n",
            "2\n",
            "3\n",
            "3\n",
            "4\n",
            "4\n",
            "3\n",
            "4\n",
            "4\n"
          ]
        }
      ]
    },
    {
      "cell_type": "code",
      "source": [
        "import math\n",
        "def findWinner(votes):\n",
        "  n = len(votes)\n",
        "  prevCount = 0\n",
        "  result = \"\"\n",
        "  for i in range(0, n):\n",
        "        count = 0\n",
        "        for j in range(0, n):\n",
        "            if (votes[i] == votes[j]):\n",
        "                count += 1\n",
        "            if (count > prevCount):\n",
        "                prevCount = count\n",
        "                result = votes[i]\n",
        "            elif (count == prevCount) :\n",
        "                result = min(result, votes[i])\n",
        "  print(result,count)\n",
        "votes=list(map(str,input().split()))\n",
        "findWinner(votes);"
      ],
      "metadata": {
        "colab": {
          "base_uri": "https://localhost:8080/"
        },
        "id": "zRo4nHcgXFCz",
        "outputId": "e2560043-a183-4d4f-c6f0-d80fe483c0d4"
      },
      "execution_count": null,
      "outputs": [
        {
          "output_type": "stream",
          "name": "stdout",
          "text": [
            "john johnny jackie johnny john jackie jamie jamie john johnny jamie johnny john\n",
            "john 4\n"
          ]
        }
      ]
    },
    {
      "cell_type": "code",
      "source": [
        "def getCount(string):\n",
        " cnt=0\n",
        " n=len(string)\n",
        " i=0\n",
        " while i < n-2 :\n",
        "  if (string[i]==string[i+1]) and (string[i]==string[i+2]) :\n",
        "    cnt=1\n",
        "    i+=2\n",
        "  else :\n",
        "    i+=1\n",
        " return cnt\n",
        "string=input()\n",
        "print(getCount(string))\n"
      ],
      "metadata": {
        "colab": {
          "base_uri": "https://localhost:8080/"
        },
        "id": "ITPVRmAXgoQc",
        "outputId": "5904b503-2518-4d65-9733-81be179bc904"
      },
      "execution_count": null,
      "outputs": [
        {
          "output_type": "stream",
          "name": "stdout",
          "text": [
            "xxwwwyy\n",
            "1\n"
          ]
        }
      ]
    },
    {
      "cell_type": "code",
      "source": [
        "weekdays=[\"monday\",\"tuesday\",\"wednesday\",\"thursday\",\"friday\"]\n",
        "weekend=[\"saturday\",\"sunday\"]\n",
        "day=input()\n",
        "for i in weekdays :\n",
        "  if day in weekdays :\n",
        "    print(\"no\")\n",
        "    break\n",
        "if day not in weekdays :\n",
        "  for i in weekend :\n",
        "    if day in weekend :\n",
        "      print(\"yes\")\n",
        "      break\n"
      ],
      "metadata": {
        "colab": {
          "base_uri": "https://localhost:8080/"
        },
        "id": "aW0oYaj3jbZV",
        "outputId": "a3a310e5-46e6-41bc-c6cd-f1077624d2fd"
      },
      "execution_count": null,
      "outputs": [
        {
          "output_type": "stream",
          "name": "stdout",
          "text": [
            "thursday\n",
            "no\n"
          ]
        }
      ]
    },
    {
      "cell_type": "code",
      "source": [
        "s=input()\n",
        "t=list(s)\n",
        "t[::2],t[1::2]=t[1::2],t[::2]\n",
        "c=''.join(t)\n",
        "print(c)"
      ],
      "metadata": {
        "colab": {
          "base_uri": "https://localhost:8080/"
        },
        "id": "JIKPeiJElwGR",
        "outputId": "854a81ba-5912-461b-f213-50cc001c4b11"
      },
      "execution_count": null,
      "outputs": [
        {
          "output_type": "stream",
          "name": "stdout",
          "text": [
            "codekata\n",
            "<class 'str'>\n"
          ]
        }
      ]
    },
    {
      "cell_type": "code",
      "source": [
        "s=input()\n",
        "li=[]\n",
        "for i in s :\n",
        "  if s.count(i)==1 :\n",
        "    li.append(i)\n",
        "print(*li)\n",
        "\n"
      ],
      "metadata": {
        "colab": {
          "base_uri": "https://localhost:8080/"
        },
        "id": "392QKmjanfbA",
        "outputId": "f1e25d31-1b15-4949-db5c-685d72549d08"
      },
      "execution_count": null,
      "outputs": [
        {
          "output_type": "stream",
          "name": "stdout",
          "text": [
            "d a c\n"
          ]
        }
      ]
    },
    {
      "cell_type": "code",
      "source": [
        "str1,str2=list(map(str,input().split()))\n",
        "str3=\"\"\n",
        "count=0\n",
        "if str1==str2 :\n",
        "  print(-1)\n",
        "elif str1!=str2 :\n",
        "  for c in str2 :\n",
        "     if c in str1 :\n",
        "       str3 = str1.replace(c,'')\n",
        "       count+=1\n",
        "  if count==0 :\n",
        "       print(str1)\n",
        "\n",
        "  print(str3)\n"
      ],
      "metadata": {
        "colab": {
          "base_uri": "https://localhost:8080/"
        },
        "id": "yRbo5qwpJv0U",
        "outputId": "19ed480c-a2fd-4a77-ab51-7a9c6c8ee97d"
      },
      "execution_count": null,
      "outputs": [
        {
          "output_type": "stream",
          "name": "stdout",
          "text": [
            "valid not\n",
            "valid\n",
            "\n"
          ]
        }
      ]
    },
    {
      "cell_type": "code",
      "source": [
        "str1,str2=list(map(str,input().split()))\n",
        "li_1=list(str1)\n",
        "li_2=list(str2)\n",
        "str3=str1[::-1]\n",
        "li_1.sort()\n",
        "li_2.sort()\n",
        "if li_1==li_2 and str1==str3 :\n",
        "  print(1)\n",
        "else :\n",
        "  print(0)"
      ],
      "metadata": {
        "colab": {
          "base_uri": "https://localhost:8080/"
        },
        "id": "ri3XJjHxc0_D",
        "outputId": "011c4cfa-7987-4d40-8eb3-983a467b33e4"
      },
      "execution_count": null,
      "outputs": [
        {
          "output_type": "stream",
          "name": "stdout",
          "text": [
            "listen silent\n",
            "0\n"
          ]
        }
      ]
    },
    {
      "cell_type": "code",
      "source": [
        "#strings 53\n",
        "vowels=\"aeiou\"\n",
        "str1=input()\n",
        "str2=\"\"\n",
        "count=0\n",
        "for c in str1 :\n",
        "  if c in vowels :\n",
        "    str2=str1.replace(c,\"\")\n",
        "    str1=str2\n",
        "  else  :\n",
        "    count+=1\n",
        "if len(str2)!=0 :\n",
        "  print(str2[::-1])\n",
        "elif count==len(str1) :\n",
        "  print(str1[::-1])\n",
        "\n",
        "\n"
      ],
      "metadata": {
        "colab": {
          "base_uri": "https://localhost:8080/"
        },
        "id": "H_-qWKoVeKlK",
        "outputId": "8f3fc1c0-9fd0-4503-b127-837504ce756a"
      },
      "execution_count": null,
      "outputs": [
        {
          "output_type": "stream",
          "name": "stdout",
          "text": [
            "rhythm\n",
            "mhtyhr\n"
          ]
        }
      ]
    },
    {
      "cell_type": "code",
      "source": [
        "\n",
        "\n",
        "string=input()\n",
        "p=\"\"\n",
        "for char in string:\n",
        "    if char not in p:\n",
        "        p=p+char\n",
        "print(p)\n",
        "\n",
        "\n"
      ],
      "metadata": {
        "colab": {
          "base_uri": "https://localhost:8080/"
        },
        "id": "Xk7VXAGxSeqZ",
        "outputId": "5410164c-cb57-40f7-c0b3-dd068cf25e9a"
      },
      "execution_count": null,
      "outputs": [
        {
          "output_type": "stream",
          "name": "stdout",
          "text": [
            "abababas\n",
            "abs\n"
          ]
        }
      ]
    },
    {
      "cell_type": "code",
      "source": [
        "#str1=\"codekata\"\n",
        "#str2=\"codeguvi\"\n",
        "str1,str2,str3=list(map(str,input().split()))\n",
        "cnt=int(str3)\n",
        "count=0\n",
        "for char in str1 :\n",
        "  if char in str2 :\n",
        "    count+=1\n",
        "if cnt==count :\n",
        "  print(\"yes\")\n",
        "else :\n",
        "  print(\"no\")"
      ],
      "metadata": {
        "colab": {
          "base_uri": "https://localhost:8080/"
        },
        "id": "XTwUyF2EcBrA",
        "outputId": "67fc2168-b35c-4679-e15d-3f450c26f687"
      },
      "execution_count": null,
      "outputs": [
        {
          "output_type": "stream",
          "name": "stdout",
          "text": [
            "codekata codeguvi 4\n",
            "yes\n"
          ]
        }
      ]
    },
    {
      "cell_type": "code",
      "source": [],
      "metadata": {
        "id": "v9zH4hyskhBL"
      },
      "execution_count": null,
      "outputs": []
    },
    {
      "cell_type": "code",
      "source": [],
      "metadata": {
        "id": "N0Qz25iwkhJz"
      },
      "execution_count": null,
      "outputs": []
    },
    {
      "cell_type": "code",
      "source": [
        "b=[1,True,\"test\"]\n",
        "b.append([1,2,3])\n",
        "b.extend([1,2,3])\n",
        "b.insert(0,5)\n",
        "print(b)\n",
        "print(b.count(1))\n",
        "b.count(1)\n",
        "print(b.index(1))\n",
        "b.reverse()\n",
        "print(b)\n"
      ],
      "metadata": {
        "colab": {
          "base_uri": "https://localhost:8080/"
        },
        "id": "aXmFqCkdRJX8",
        "outputId": "3878e80b-cb8c-4632-dbba-ab0b85da26e9"
      },
      "execution_count": null,
      "outputs": [
        {
          "output_type": "stream",
          "name": "stdout",
          "text": [
            "[5, 1, True, 'test', [1, 2, 3], 1, 2, 3]\n",
            "3\n",
            "1\n",
            "[3, 2, 1, [1, 2, 3], 'test', True, 1, 5]\n"
          ]
        }
      ]
    },
    {
      "cell_type": "code",
      "source": [
        "lst=[1,56,43,22,32,89,77]\n",
        "print(lst[0:5])\n",
        "print(lst[:5])\n",
        "print(lst[1::2])\n",
        "print(lst[::-1])\n",
        "print(lst[2:5:-2])\n",
        "print(lst[-2])"
      ],
      "metadata": {
        "colab": {
          "base_uri": "https://localhost:8080/"
        },
        "id": "G1qJX9jsHT7Y",
        "outputId": "d6f32048-02e4-41c5-e74c-2eb62431e20a"
      },
      "execution_count": null,
      "outputs": [
        {
          "output_type": "stream",
          "name": "stdout",
          "text": [
            "[1, 56, 43, 22, 32]\n",
            "[1, 56, 43, 22, 32]\n",
            "[56, 22, 89]\n",
            "[77, 89, 32, 22, 43, 56, 1]\n",
            "[]\n",
            "89\n"
          ]
        }
      ]
    },
    {
      "cell_type": "code",
      "source": [],
      "metadata": {
        "id": "RYm6mzf3LF-x"
      },
      "execution_count": null,
      "outputs": []
    },
    {
      "cell_type": "code",
      "source": [],
      "metadata": {
        "id": "iEvkpGzILGjB"
      },
      "execution_count": null,
      "outputs": []
    },
    {
      "cell_type": "code",
      "source": [
        "b=[3]\n",
        "b.append(2)\n",
        "print(b)\n",
        "b.append([True,2.3])\n",
        "print(b)\n",
        "c=b.pop(2)\n",
        "print(c)\n",
        "b.remove(3)\n",
        "del b[0]\n",
        "print(b)"
      ],
      "metadata": {
        "colab": {
          "base_uri": "https://localhost:8080/"
        },
        "id": "vPi2-943LKdj",
        "outputId": "d1674bfb-3a29-48ce-fb51-6e5e48894174"
      },
      "execution_count": null,
      "outputs": [
        {
          "output_type": "stream",
          "name": "stdout",
          "text": [
            "[3, 2]\n",
            "[3, 2, [True, 2.3]]\n",
            "[True, 2.3]\n",
            "[]\n"
          ]
        }
      ]
    },
    {
      "cell_type": "code",
      "source": [
        "n=int(input())\n",
        "arr=list(map(int,input().split()))\n",
        "result = 0\n",
        "for i in arr:\n",
        "  result ^= i\n",
        "print(result)"
      ],
      "metadata": {
        "colab": {
          "base_uri": "https://localhost:8080/"
        },
        "id": "zK_ClMFxDrE-",
        "outputId": "ec7875ce-42a6-42a6-bc07-b36bd4e11c71"
      },
      "execution_count": null,
      "outputs": [
        {
          "output_type": "stream",
          "name": "stdout",
          "text": [
            "10\n",
            "2 3 4 5 2 3 4 5 1 2\n",
            "3\n"
          ]
        }
      ]
    },
    {
      "cell_type": "code",
      "source": [
        "n=int(input())\n",
        "ar=list(map(int,input().split()))\n",
        "n = len(ar)\n",
        "xor=0\n",
        "for i in range(n) :\n",
        "  xor=xor ^ ar[i]\n",
        "print(xor)\n",
        "\n"
      ],
      "metadata": {
        "colab": {
          "base_uri": "https://localhost:8080/"
        },
        "id": "A1eAEwVgkQHY",
        "outputId": "168c7cb8-2739-4ea7-896a-dd9a271b239f"
      },
      "execution_count": null,
      "outputs": [
        {
          "output_type": "stream",
          "name": "stdout",
          "text": [
            "3\n",
            "2 4 7\n",
            "1\n"
          ]
        }
      ]
    },
    {
      "cell_type": "code",
      "source": [
        "def morethanNbyK(arr, n, k):\n",
        "    x = n // k\n",
        "\n",
        "    # unordered_map initialization\n",
        "    freq = {}\n",
        "\n",
        "    for i in range(n):\n",
        "        if arr[i] in freq:\n",
        "            freq[arr[i]] += 1\n",
        "        else:\n",
        "            freq[arr[i]] = 1\n",
        "\n",
        "    # Traversing the map\n",
        "    for i in freq:\n",
        "\n",
        "        l=[]\n",
        "        # Checking if value of a key-value pair\n",
        "        # is greater than x (where x=n/k)\n",
        "        if (freq[i] >= x):\n",
        "\n",
        "            # Print the key of whose value\n",
        "            # is greater than x\n",
        "            #l.append((i))\n",
        "            #print(i,end=\" \")\n",
        "            r=str(i)\n",
        "            print(r,end=\" \")\n",
        "            trim=r.rstrip()\n",
        "\n",
        "\n",
        "\n",
        "n ,k=list(map(int,input().split()))\n",
        "arr=list(map(int,input().split()))\n",
        "n=len(arr)\n",
        "morethanNbyK(arr, n, k)\n"
      ],
      "metadata": {
        "colab": {
          "base_uri": "https://localhost:8080/"
        },
        "id": "VOu5ButBpLRs",
        "outputId": "7677c093-f4ee-4433-eb57-9eadc25303bb"
      },
      "execution_count": null,
      "outputs": [
        {
          "output_type": "stream",
          "name": "stdout",
          "text": [
            "5 2 \n",
            "1 2 4 1 2\n",
            "1 2 "
          ]
        }
      ]
    },
    {
      "cell_type": "code",
      "source": [
        "from itertools import permutations\n",
        "n = int(input())\n",
        "l = [int(x) for x in input().split()]\n",
        "n = len(l)\n",
        "m = list(permutations(l,len(l)))\n",
        "a = 0\n",
        "for i in range(len(m)):\n",
        "    b = 0\n",
        "    for j in range(len(m[i])-1):\n",
        "        b += max(m[i][j], m[i][j+1])\n",
        "    if b > a:\n",
        "        a = b\n",
        "print(a)"
      ],
      "metadata": {
        "colab": {
          "base_uri": "https://localhost:8080/"
        },
        "id": "-fdqGOh34xY6",
        "outputId": "2aa86960-7beb-4dd0-9d3a-b6ffe2f85515"
      },
      "execution_count": null,
      "outputs": [
        {
          "output_type": "stream",
          "name": "stdout",
          "text": [
            "5\n",
            "1 2 3 4 5\n",
            "18\n"
          ]
        }
      ]
    },
    {
      "cell_type": "code",
      "source": [
        "def checksum(arr,x) :\n",
        "  sum=0\n",
        "  for i in range(0,len(arr)) :\n",
        "    for j in range(i+1,len(arr)) :\n",
        "      if i!=j and i<len(arr) :\n",
        "        sum=arr[i]+arr[j]\n",
        "        if sum==x :\n",
        "            print(\"yes\")\n",
        "            return\n",
        "    print(\"no\")\n",
        "    return\n",
        "n,x=list(map(int,input().split()))\n",
        "arr=list(map(int,input().split()))\n",
        "checksum(arr,x)\n"
      ],
      "metadata": {
        "colab": {
          "base_uri": "https://localhost:8080/"
        },
        "id": "lLljORw65wIE",
        "outputId": "9f149b1b-65de-4bb4-9128-9d8f6c2ee5c6"
      },
      "execution_count": null,
      "outputs": [
        {
          "output_type": "stream",
          "name": "stdout",
          "text": [
            "4 1 \n",
            "1 2 3 0\n",
            "yes\n"
          ]
        }
      ]
    },
    {
      "cell_type": "code",
      "source": [
        "\n",
        "def sumOfMinAbsDifferences(arr,n):\n",
        "    result = 0\n",
        "    diff = 10**20;\n",
        "\n",
        "    for i in range(0,n):\n",
        "        for j in range(i+1, n):\n",
        "             if abs(arr[i]-arr[j]) < diff:\n",
        "                diff = abs(arr[i] - arr[j])\n",
        "    return diff;\n",
        "n=int(input())\n",
        "arr=list(map(int,input().split()))\n",
        "n = len(arr)\n",
        "sumOfMinAbsDifferences(arr, n)"
      ],
      "metadata": {
        "colab": {
          "base_uri": "https://localhost:8080/"
        },
        "id": "XGNIUjyTfZSB",
        "outputId": "3f32f1d7-4d0b-4bbd-83d1-f313c1344f9d"
      },
      "execution_count": null,
      "outputs": [
        {
          "name": "stdout",
          "output_type": "stream",
          "text": [
            "5\n",
            "10 7 9 1 4\n"
          ]
        },
        {
          "output_type": "execute_result",
          "data": {
            "text/plain": [
              "1"
            ]
          },
          "metadata": {},
          "execution_count": 3
        }
      ]
    },
    {
      "cell_type": "code",
      "source": [
        "\n",
        "def countOccurrences(s, word):\n",
        "\n",
        "    # split the string by spaces in a\n",
        "    a = s.split(\" \")\n",
        "\n",
        "    # search for pattern in a\n",
        "    count = 0\n",
        "    for i in range(0, len(a)):\n",
        "\n",
        "        # if match found increase count\n",
        "        if (word == a[i]):\n",
        "           count = count + 1\n",
        "    if count==0 :\n",
        "      return -1\n",
        "    return count\n",
        "\n",
        "s =str(input())\n",
        "word =str(input())\n",
        "print(countOccurrences(s, word))\n",
        "\n",
        "\n"
      ],
      "metadata": {
        "colab": {
          "base_uri": "https://localhost:8080/",
          "height": 228
        },
        "id": "IgaR0jd7x9mb",
        "outputId": "e7a6a27c-2d00-48ea-d23e-c64f9528510c"
      },
      "execution_count": null,
      "outputs": [
        {
          "name": "stdout",
          "output_type": "stream",
          "text": [
            "aaa ggg hhh aaa\n"
          ]
        },
        {
          "output_type": "error",
          "ename": "TypeError",
          "evalue": "'str' object is not callable",
          "traceback": [
            "\u001b[0;31m---------------------------------------------------------------------------\u001b[0m",
            "\u001b[0;31mTypeError\u001b[0m                                 Traceback (most recent call last)",
            "\u001b[0;32m<ipython-input-22-1176a21bc7f9>\u001b[0m in \u001b[0;36m<cell line: 16>\u001b[0;34m()\u001b[0m\n\u001b[1;32m     14\u001b[0m     \u001b[0;32mreturn\u001b[0m \u001b[0mcount\u001b[0m\u001b[0;34m\u001b[0m\u001b[0;34m\u001b[0m\u001b[0m\n\u001b[1;32m     15\u001b[0m \u001b[0;34m\u001b[0m\u001b[0m\n\u001b[0;32m---> 16\u001b[0;31m \u001b[0ms\u001b[0m \u001b[0;34m=\u001b[0m\u001b[0mstr\u001b[0m\u001b[0;34m(\u001b[0m\u001b[0minput\u001b[0m\u001b[0;34m(\u001b[0m\u001b[0;34m)\u001b[0m\u001b[0;34m)\u001b[0m\u001b[0;34m\u001b[0m\u001b[0;34m\u001b[0m\u001b[0m\n\u001b[0m\u001b[1;32m     17\u001b[0m \u001b[0mword\u001b[0m \u001b[0;34m=\u001b[0m\u001b[0mstr\u001b[0m\u001b[0;34m(\u001b[0m\u001b[0minput\u001b[0m\u001b[0;34m(\u001b[0m\u001b[0;34m)\u001b[0m\u001b[0;34m)\u001b[0m\u001b[0;34m\u001b[0m\u001b[0;34m\u001b[0m\u001b[0m\n\u001b[1;32m     18\u001b[0m \u001b[0mprint\u001b[0m\u001b[0;34m(\u001b[0m\u001b[0mcountOccurrences\u001b[0m\u001b[0;34m(\u001b[0m\u001b[0ms\u001b[0m\u001b[0;34m,\u001b[0m \u001b[0mword\u001b[0m\u001b[0;34m)\u001b[0m\u001b[0;34m)\u001b[0m\u001b[0;34m\u001b[0m\u001b[0;34m\u001b[0m\u001b[0m\n",
            "\u001b[0;31mTypeError\u001b[0m: 'str' object is not callable"
          ]
        }
      ]
    },
    {
      "cell_type": "code",
      "source": [
        "n=str(input())\n",
        "sum=0\n",
        "for i in range(0,len(n)) :\n",
        "  sum=sum + int(n[i])*int(n[i])\n",
        "print(sum)"
      ],
      "metadata": {
        "colab": {
          "base_uri": "https://localhost:8080/"
        },
        "id": "p4x-VwbZFbdz",
        "outputId": "7a9bf2ca-da0d-42ad-f286-5655f278d719"
      },
      "execution_count": null,
      "outputs": [
        {
          "output_type": "stream",
          "name": "stdout",
          "text": [
            "133\n",
            "19\n"
          ]
        }
      ]
    },
    {
      "cell_type": "code",
      "source": [
        "n = input()\n",
        "sett = list(set(n))\n",
        "\n",
        "if(len(sett) == 2):\n",
        "    print(\"saturated\")\n",
        "else :\n",
        "    print(\"Unsaturated\")"
      ],
      "metadata": {
        "colab": {
          "base_uri": "https://localhost:8080/"
        },
        "id": "8KS5-MaKIEzd",
        "outputId": "e1a7e9b7-8a87-4729-c8fe-50721db87189"
      },
      "execution_count": null,
      "outputs": [
        {
          "output_type": "stream",
          "name": "stdout",
          "text": [
            "12111112\n",
            "saturated\n"
          ]
        }
      ]
    },
    {
      "cell_type": "code",
      "source": [
        "n1,n2=list(map(int,input().split()))\n",
        "min_num=min(n1,n2)\n",
        "hcf=1\n",
        "for i in range(1,min_num+1):\n",
        "  if n1%i==0 and n2%i==0 :\n",
        "    hcf=i\n",
        "if hcf==1 :\n",
        "  print(1)\n",
        "else :\n",
        "  print(0)\n",
        "\n",
        "\n"
      ],
      "metadata": {
        "colab": {
          "base_uri": "https://localhost:8080/"
        },
        "id": "FS6TtuAkKq49",
        "outputId": "517a0ab9-b358-48b3-b95e-7c874b75bd32"
      },
      "execution_count": null,
      "outputs": [
        {
          "output_type": "stream",
          "name": "stdout",
          "text": [
            "3 9\n",
            "0\n"
          ]
        }
      ]
    },
    {
      "cell_type": "code",
      "source": [
        "n=int(input())\n",
        "series=0\n",
        "l=[]\n",
        "for i in range(1,n+1) :\n",
        "  series=series + i*i*i\n",
        "  l.append(series)\n",
        "print(*l)\n"
      ],
      "metadata": {
        "colab": {
          "base_uri": "https://localhost:8080/"
        },
        "id": "LLVP2fc0vhcM",
        "outputId": "2dc01bed-e879-4b9c-9367-e661a4a51482"
      },
      "execution_count": null,
      "outputs": [
        {
          "output_type": "stream",
          "name": "stdout",
          "text": [
            "3\n",
            "1 9 36\n"
          ]
        }
      ]
    },
    {
      "cell_type": "code",
      "source": [
        "import re\n",
        "x=input()\n",
        "q=[]\n",
        "y=re.split(\"\\D+\",x)\n",
        "for i in range(len(y)):\n",
        " z=list(map(int,(\"\".join(y[i]))))\n",
        " q.append(sum(z))\n",
        " w=sum(q)\n",
        "print(w)"
      ],
      "metadata": {
        "colab": {
          "base_uri": "https://localhost:8080/"
        },
        "id": "91bf6rOw-hfM",
        "outputId": "5c066691-2c61-44fa-efde-931817621987"
      },
      "execution_count": null,
      "outputs": [
        {
          "output_type": "stream",
          "name": "stdout",
          "text": [
            "HR05-AA-2669\n",
            "28\n"
          ]
        }
      ]
    },
    {
      "cell_type": "code",
      "source": [
        "n = int(input())\n",
        "count = 0\n",
        "for i in range(1, n+1):\n",
        "    i = str(i)\n",
        "    if i == i[::-1]:\n",
        "        count += 1\n",
        "print(count)"
      ],
      "metadata": {
        "colab": {
          "base_uri": "https://localhost:8080/"
        },
        "id": "tS249rRZ_Kpx",
        "outputId": "ab581de6-3da6-433b-a26b-846756ed2e98"
      },
      "execution_count": null,
      "outputs": [
        {
          "output_type": "stream",
          "name": "stdout",
          "text": [
            "5\n",
            "5\n"
          ]
        }
      ]
    },
    {
      "cell_type": "code",
      "source": [
        "n=input()\n",
        "A=n.replace(\".\",\" \")\n",
        "li=[]\n",
        "\n",
        "for i in A.split():\n",
        "    if i.isnumeric():\n",
        "        li.append(int(i))\n",
        "print(max(li))"
      ],
      "metadata": {
        "colab": {
          "base_uri": "https://localhost:8080/"
        },
        "id": "dK3vOdo9AWay",
        "outputId": "d1e790e1-b206-45a0-a902-be6999fd804e"
      },
      "execution_count": null,
      "outputs": [
        {
          "output_type": "stream",
          "name": "stdout",
          "text": [
            " I was born on 12 october 1998.\n",
            "1998\n"
          ]
        }
      ]
    },
    {
      "cell_type": "code",
      "source": [
        "  n=int(input())\n",
        "  arr=list(map(int,input().split()))\n",
        "  ans = arr[0]\n",
        "  for i in range(1, len(arr)):\n",
        "      ans = ans&arr[i]\n",
        "  print(ans)"
      ],
      "metadata": {
        "colab": {
          "base_uri": "https://localhost:8080/"
        },
        "id": "FYg6DO7oBZzE",
        "outputId": "23bd9ee5-ebc6-4332-d354-349e560acf68"
      },
      "execution_count": null,
      "outputs": [
        {
          "output_type": "stream",
          "name": "stdout",
          "text": [
            "4\n",
            "4 3 2 1\n",
            "0\n"
          ]
        }
      ]
    },
    {
      "cell_type": "code",
      "source": [
        "n=int(input())\n",
        "li=list(map(int,input().split()))\n",
        "for i in range(0,len(li)) :\n",
        "  li.count(i)"
      ],
      "metadata": {
        "id": "qGXpRTuHDA45"
      },
      "execution_count": null,
      "outputs": []
    },
    {
      "cell_type": "code",
      "source": [
        "n = str(input())\n",
        "if int(n) > 0:\n",
        "    if (int(n[-1]) + int(n[-2])) % 4 == 0:\n",
        "        print(\"no\")\n",
        "    else:\n",
        "        print(\"no\")\n",
        "else:\n",
        "    if (int(n[-1]) + int(n[1])) % 4 == 0:\n",
        "        print(\"yes\")\n",
        "    else:\n",
        "        print(\"no\")"
      ],
      "metadata": {
        "colab": {
          "base_uri": "https://localhost:8080/"
        },
        "id": "rSWXQczyFY93",
        "outputId": "09252ec9-42ec-48cf-db8e-2e230e9229e9"
      },
      "execution_count": null,
      "outputs": [
        {
          "output_type": "stream",
          "name": "stdout",
          "text": [
            "20\n",
            "no\n"
          ]
        }
      ]
    },
    {
      "cell_type": "code",
      "source": [
        "n=int(input())\n",
        "if n%2==0 and n%3==0 and n%5==0 :\n",
        "  print(\"yes\")\n",
        "else :\n",
        "  print(\"no\")"
      ],
      "metadata": {
        "colab": {
          "base_uri": "https://localhost:8080/"
        },
        "id": "4X9Khqg37RTl",
        "outputId": "19ad68a5-5934-45a1-d2f9-1f23b4b76be2"
      },
      "execution_count": null,
      "outputs": [
        {
          "output_type": "stream",
          "name": "stdout",
          "text": [
            "60\n",
            "yes\n"
          ]
        }
      ]
    },
    {
      "cell_type": "code",
      "source": [
        "l=[]\n",
        "m,k=list(map(int,input().split()))\n",
        "for i in range(m+1,k) :\n",
        "  l.append(i)\n",
        "print(*l)"
      ],
      "metadata": {
        "colab": {
          "base_uri": "https://localhost:8080/"
        },
        "id": "emkTf0wo74aP",
        "outputId": "7b1d45ca-1492-47bb-f4a8-2f9cfb90e259"
      },
      "execution_count": null,
      "outputs": [
        {
          "output_type": "stream",
          "name": "stdout",
          "text": [
            "5 8\n",
            "6 7\n"
          ]
        }
      ]
    },
    {
      "cell_type": "code",
      "source": [
        "n=int(input())\n",
        "if n%4==0 :\n",
        "  print(\"leap year\")\n",
        "else :\n",
        "  print(\"not\")"
      ],
      "metadata": {
        "colab": {
          "base_uri": "https://localhost:8080/"
        },
        "id": "OpH9iYlJ8c8q",
        "outputId": "0553c481-9110-4e1b-e6bd-134e5aca70ef"
      },
      "execution_count": null,
      "outputs": [
        {
          "output_type": "stream",
          "name": "stdout",
          "text": [
            "2023\n",
            "not\n"
          ]
        }
      ]
    },
    {
      "cell_type": "code",
      "source": [
        "n=int(input())\n",
        "arr=list(map(int,input().split()))\n",
        "arr.sort()\n",
        "print(arr[0])"
      ],
      "metadata": {
        "colab": {
          "base_uri": "https://localhost:8080/"
        },
        "id": "PYpi9YBr8-fq",
        "outputId": "39fa5379-39be-4411-bd35-12baf79fbb55"
      },
      "execution_count": null,
      "outputs": [
        {
          "output_type": "stream",
          "name": "stdout",
          "text": [
            "6\n",
            "5 7 4 4 6 8\n",
            "4\n"
          ]
        }
      ]
    },
    {
      "cell_type": "code",
      "source": [
        "n=int(input())\n",
        "arr=list(map(int,input().split()))\n",
        "arr.sort(reverse = True)\n",
        "print(arr[0])"
      ],
      "metadata": {
        "colab": {
          "base_uri": "https://localhost:8080/"
        },
        "id": "KpbD4wzC_NpU",
        "outputId": "f367bdb4-26af-4dd8-fbbf-c623e6a56582"
      },
      "execution_count": null,
      "outputs": [
        {
          "output_type": "stream",
          "name": "stdout",
          "text": [
            "6\n",
            "5 7 4 4 6 8\n",
            "8\n"
          ]
        }
      ]
    },
    {
      "cell_type": "code",
      "source": [
        "s=str(input())\n",
        "m=s.lower()\n",
        "print(m)\n"
      ],
      "metadata": {
        "colab": {
          "base_uri": "https://localhost:8080/"
        },
        "id": "IP4Pap3Qk7PJ",
        "outputId": "bb558b7d-eb00-4feb-f767-bc1dd113cbef"
      },
      "execution_count": null,
      "outputs": [
        {
          "output_type": "stream",
          "name": "stdout",
          "text": [
            "Guvi Geek\n",
            "guvi geek\n"
          ]
        }
      ]
    },
    {
      "cell_type": "markdown",
      "source": [],
      "metadata": {
        "id": "0s6R_pmNzylo"
      }
    },
    {
      "cell_type": "code",
      "source": [
        "n=int(input())\n",
        "m=[]\n",
        "l=list(map(int,input().split()))\n",
        "for i in l :\n",
        "  if i%2==0 :\n",
        "    m.append(\"even\")\n",
        "  else :\n",
        "   m.append(\"odd\")\n",
        "print(*m)"
      ],
      "metadata": {
        "colab": {
          "base_uri": "https://localhost:8080/"
        },
        "id": "-SdeljxNy_pU",
        "outputId": "b31e2d06-688d-44ba-a108-b2a7358c8e48"
      },
      "execution_count": null,
      "outputs": [
        {
          "output_type": "stream",
          "name": "stdout",
          "text": [
            "3\n",
            "5 7 4\n",
            "odd odd even\n"
          ]
        }
      ]
    },
    {
      "cell_type": "code",
      "source": [
        "n=int(input())\n",
        "if n%2==0 :\n",
        "  print(\"even\")\n",
        "else :\n",
        "  print(\"odd\")\n"
      ],
      "metadata": {
        "colab": {
          "base_uri": "https://localhost:8080/"
        },
        "id": "FB-KyfnxRd76",
        "outputId": "22808f32-4414-4e7a-ef87-cdb7beb2f333"
      },
      "execution_count": null,
      "outputs": [
        {
          "output_type": "stream",
          "name": "stdout",
          "text": [
            "3\n",
            "odd\n"
          ]
        }
      ]
    },
    {
      "cell_type": "code",
      "source": [
        "m=[]\n",
        "n,a,b,c=list(map(int,input().split()))\n",
        "if n%a==0 and n%b==0 and  n%c==0 :\n",
        "  print(\"yes\")\n",
        "else :\n",
        "  print(\"no\")\n"
      ],
      "metadata": {
        "colab": {
          "base_uri": "https://localhost:8080/"
        },
        "id": "uqyAuX9y2gaY",
        "outputId": "7f8fc4f3-a059-48d5-fc69-ce1c860c66eb"
      },
      "execution_count": null,
      "outputs": [
        {
          "output_type": "stream",
          "name": "stdout",
          "text": [
            "3 5 8 9\n",
            "no\n"
          ]
        }
      ]
    },
    {
      "cell_type": "code",
      "source": [
        "s=str(input())\n",
        "print(s.upper())"
      ],
      "metadata": {
        "colab": {
          "base_uri": "https://localhost:8080/"
        },
        "id": "ZxlMMlsiJn3t",
        "outputId": "1a0733ca-e68b-44bd-e703-ee677f1b357c"
      },
      "execution_count": null,
      "outputs": [
        {
          "output_type": "stream",
          "name": "stdout",
          "text": [
            "guvi geek\n",
            "GUVI GEEK\n",
            "GUVI GEEK\n"
          ]
        }
      ]
    },
    {
      "cell_type": "code",
      "source": [
        "n=int(input())\n",
        "sum=0\n",
        "arr=list(map(int,input().split()))\n",
        "for i in arr :\n",
        "  if i%2==0 :\n",
        "    sum=sum+i\n",
        "print(sum)\n",
        "\n"
      ],
      "metadata": {
        "colab": {
          "base_uri": "https://localhost:8080/"
        },
        "id": "8NjuxSvIKN1A",
        "outputId": "611323bc-15f6-4b10-d14f-4afc6e1d0890"
      },
      "execution_count": null,
      "outputs": [
        {
          "output_type": "stream",
          "name": "stdout",
          "text": [
            "2\n",
            "5 6\n",
            "6\n"
          ]
        }
      ]
    },
    {
      "cell_type": "code",
      "source": [
        "s=str(input())\n",
        "r=s[::-1]\n",
        "print(r)"
      ],
      "metadata": {
        "colab": {
          "base_uri": "https://localhost:8080/"
        },
        "id": "pD-BBfZEIYYr",
        "outputId": "a3cdf3ff-37c5-458a-a2d6-41de0ba4f066"
      },
      "execution_count": null,
      "outputs": [
        {
          "output_type": "stream",
          "name": "stdout",
          "text": [
            "guvi geek\n",
            "keeg ivug\n"
          ]
        }
      ]
    },
    {
      "cell_type": "code",
      "source": [
        "n=int(input())\n",
        "sum=0\n",
        "arr=list(map(int,input().split()))\n",
        "for i in arr :\n",
        "  sum=sum=i\n",
        "if sum%2==0 :\n",
        "  print(\"even\")\n",
        "else :\n",
        "  print(\"odd\")"
      ],
      "metadata": {
        "colab": {
          "base_uri": "https://localhost:8080/"
        },
        "id": "OMN3-4LrJ1os",
        "outputId": "689313f9-5c9d-4ec5-cf45-06808b7c9957"
      },
      "execution_count": null,
      "outputs": [
        {
          "output_type": "stream",
          "name": "stdout",
          "text": [
            "3\n",
            "5 7 4\n",
            "even\n"
          ]
        }
      ]
    },
    {
      "cell_type": "code",
      "source": [],
      "metadata": {
        "id": "1dH3d-YNRShQ"
      },
      "execution_count": null,
      "outputs": []
    },
    {
      "cell_type": "code",
      "source": [],
      "metadata": {
        "id": "2sZhkeesRQqS"
      },
      "execution_count": null,
      "outputs": []
    },
    {
      "cell_type": "code",
      "source": [
        "n,k=list(map(int,input().split()))\n",
        "l=[]\n",
        "for i in range(1,n+1) :\n",
        "  l.append(k*i)\n",
        "print(*l)"
      ],
      "metadata": {
        "colab": {
          "base_uri": "https://localhost:8080/"
        },
        "id": "epR70Zj7KaDf",
        "outputId": "856e44a3-ca42-4e10-aff1-1ae50d129446"
      },
      "execution_count": null,
      "outputs": [
        {
          "output_type": "stream",
          "name": "stdout",
          "text": [
            "5 4\n",
            "4 8 12 16 20\n"
          ]
        }
      ]
    },
    {
      "cell_type": "code",
      "source": [
        "s=str(input())\n",
        "lower_count=0\n",
        "upper_count=0\n",
        "l=[]\n",
        "for c in s :\n",
        "  if c.islower() :\n",
        "      lower_count=lower_count+1\n",
        "  elif c.isupper() :\n",
        "      upper_count=upper_count+1\n",
        "l.append(upper_count)\n",
        "l.append(lower_count)\n",
        "print(*l)\n",
        "\n"
      ],
      "metadata": {
        "colab": {
          "base_uri": "https://localhost:8080/"
        },
        "id": "9B61XRt0LQc0",
        "outputId": "3b539d64-4ed4-4f25-bb1e-03b8226f51c0"
      },
      "execution_count": null,
      "outputs": [
        {
          "output_type": "stream",
          "name": "stdout",
          "text": [
            "Guvi Geek\n",
            "2 6\n"
          ]
        }
      ]
    },
    {
      "cell_type": "code",
      "source": [
        "string = input()\n",
        "dups={}\n",
        "s=str()\n",
        "for x in string:\n",
        "  if x not in dups:\n",
        "    dups[x]=0\n",
        "  else:\n",
        "    dups[x]+=1\n",
        "for keys,vals in dups.items():\n",
        "  if vals>0:\n",
        "    s=s+ keys\n",
        "print(s)\n"
      ],
      "metadata": {
        "colab": {
          "base_uri": "https://localhost:8080/"
        },
        "id": "RTh26HDwO2R1",
        "outputId": "1f03a87d-2de8-4d01-8573-f5b56fc39ab6"
      },
      "execution_count": null,
      "outputs": [
        {
          "output_type": "stream",
          "name": "stdout",
          "text": [
            "Guvi Geek\n",
            "Ge\n"
          ]
        }
      ]
    },
    {
      "cell_type": "code",
      "source": [
        "n=int(input())\n",
        "arr=list(map(int,input().split()))\n",
        "arr.sort()\n",
        "print(*arr)"
      ],
      "metadata": {
        "colab": {
          "base_uri": "https://localhost:8080/"
        },
        "id": "bpAg7-GZP9wz",
        "outputId": "31bc6116-bbd6-4098-95b5-b6e89fe0ef85"
      },
      "execution_count": null,
      "outputs": [
        {
          "output_type": "stream",
          "name": "stdout",
          "text": [
            "6\n",
            "5 7 4 4 6 8\n",
            "8 7 6 5 4 4\n"
          ]
        }
      ]
    },
    {
      "cell_type": "code",
      "source": [
        "string=str(input())\n",
        "#for char in string :\n",
        " #if char.isalnum() :\n",
        "    #test_str = ''.join(char)\n",
        "test_str = ''.join(letter for letter in string if letter.isalnum())\n",
        "print(test_str)"
      ],
      "metadata": {
        "colab": {
          "base_uri": "https://localhost:8080/"
        },
        "id": "deM7oOK7RB71",
        "outputId": "cc2debda-3edb-4297-c9d6-8f0c3c2478ad"
      },
      "execution_count": null,
      "outputs": [
        {
          "output_type": "stream",
          "name": "stdout",
          "text": [
            "Xyz-aBc-nMk\n",
            "XyzaBcnMk\n"
          ]
        }
      ]
    },
    {
      "cell_type": "code",
      "source": [
        "import math\n",
        "n=int(input())\n",
        "m=math.sqrt(n)\n",
        "print(round(m))"
      ],
      "metadata": {
        "colab": {
          "base_uri": "https://localhost:8080/"
        },
        "id": "d-ZnD7gzS5kU",
        "outputId": "a2acf1e4-b5bd-4a9a-d55c-37d0a101357a"
      },
      "execution_count": null,
      "outputs": [
        {
          "output_type": "stream",
          "name": "stdout",
          "text": [
            "16\n",
            "4\n"
          ]
        }
      ]
    },
    {
      "cell_type": "code",
      "source": [
        "n,m=list(map(int,input().split()))\n",
        "print(n//m,n%m)"
      ],
      "metadata": {
        "colab": {
          "base_uri": "https://localhost:8080/"
        },
        "id": "P6SXb2jiT_ta",
        "outputId": "6259d1a6-2315-4743-ffbe-679b0ec302c3"
      },
      "execution_count": null,
      "outputs": [
        {
          "output_type": "stream",
          "name": "stdout",
          "text": [
            "6 3\n",
            "2 0\n"
          ]
        }
      ]
    },
    {
      "cell_type": "code",
      "source": [
        "s=str(input())\n",
        "m=s.replace(\" \",\"\")\n",
        "print(len(m))"
      ],
      "metadata": {
        "colab": {
          "base_uri": "https://localhost:8080/"
        },
        "id": "rzO-XQI7UVXk",
        "outputId": "ebe21efc-8adf-47ec-c4ed-7c6acc194a33"
      },
      "execution_count": null,
      "outputs": [
        {
          "output_type": "stream",
          "name": "stdout",
          "text": [
            "guvi geek\n",
            "8\n"
          ]
        }
      ]
    },
    {
      "cell_type": "code",
      "source": [],
      "metadata": {
        "id": "5IvWi1vyVSGB"
      },
      "execution_count": null,
      "outputs": []
    },
    {
      "cell_type": "code",
      "source": [
        "n=int(input())\n",
        "count=0\n",
        "arr=list(map(int,input().split()))\n",
        "for i in arr :\n",
        "  if i>15 :\n",
        "    print(i)\n",
        "    count=count-1\n",
        "    break\n",
        "  else :\n",
        "    count+=1\n",
        "if(count>1) :\n",
        "  print(-1)"
      ],
      "metadata": {
        "colab": {
          "base_uri": "https://localhost:8080/"
        },
        "id": "3VTzN0CeKyn4",
        "outputId": "37b4f40d-701f-4a4a-b38d-7b56e02ce85a"
      },
      "execution_count": null,
      "outputs": [
        {
          "output_type": "stream",
          "name": "stdout",
          "text": [
            "3\n",
            "5 6 77\n",
            "77\n"
          ]
        }
      ]
    },
    {
      "cell_type": "code",
      "source": [
        "n=int(input())\n",
        "sum=0\n",
        "arr=list(map(int,input().split()))\n",
        "for i in arr :\n",
        "  sum=sum + i\n",
        "print(sum)"
      ],
      "metadata": {
        "colab": {
          "base_uri": "https://localhost:8080/"
        },
        "id": "jHA9VbzTNHTx",
        "outputId": "920514ca-38ba-4c19-9eb6-13a91c9d5a7e"
      },
      "execution_count": null,
      "outputs": [
        {
          "output_type": "stream",
          "name": "stdout",
          "text": [
            "3\n",
            "5 7 4\n",
            "16\n"
          ]
        }
      ]
    },
    {
      "cell_type": "code",
      "source": [
        "s=str(input())\n",
        "print(len(s))"
      ],
      "metadata": {
        "colab": {
          "base_uri": "https://localhost:8080/"
        },
        "id": "H2F_YqM52KaW",
        "outputId": "42963303-8ee6-406b-bedc-78a765fccc8c"
      },
      "execution_count": null,
      "outputs": [
        {
          "output_type": "stream",
          "name": "stdout",
          "text": [
            "5678\n",
            "4\n"
          ]
        }
      ]
    },
    {
      "cell_type": "markdown",
      "source": [],
      "metadata": {
        "id": "vtpH5yTYzvSp"
      }
    },
    {
      "cell_type": "code",
      "source": [
        "s=str(input())\n",
        "sum=0\n",
        "for c in s:\n",
        " sum=sum + int(c)\n",
        "print(sum)\n",
        "\n"
      ],
      "metadata": {
        "colab": {
          "base_uri": "https://localhost:8080/"
        },
        "id": "4fuLvgdh96lw",
        "outputId": "cb4921a6-f8d8-4758-befc-5719a7eb67fb"
      },
      "execution_count": null,
      "outputs": [
        {
          "output_type": "stream",
          "name": "stdout",
          "text": [
            "3589\n",
            "25\n"
          ]
        }
      ]
    },
    {
      "cell_type": "code",
      "source": [
        "n,k=list(map(int,input().split()))\n",
        "l=list(map(int,input().split()))\n",
        "if l.count(k) >1 :\n",
        "  print(l.count(k))\n",
        "elif l.count(k) ==1 :\n",
        "  print(0)\n",
        "else :\n",
        "  print(-1)\n",
        "\n"
      ],
      "metadata": {
        "colab": {
          "base_uri": "https://localhost:8080/"
        },
        "id": "U5jz0JuKyK7B",
        "outputId": "b2c19a7b-d97e-4945-e45e-448972806a1d"
      },
      "execution_count": null,
      "outputs": [
        {
          "output_type": "stream",
          "name": "stdout",
          "text": [
            "6 2\n",
            "1 2 3 5 7 8\n",
            "0\n"
          ]
        }
      ]
    },
    {
      "cell_type": "code",
      "source": [
        "s=str(input())\n",
        "n= len(s)\n",
        "str1 =\"\"\n",
        "for i in range(n):\n",
        "      if (s[i] == 'a' or s[i] == 'e' or\n",
        "         s[i] == 'i' or s[i] == 'o' or\n",
        "         s[i] == 'u') or s[i] == ' ':\n",
        "          c = (s[i]).upper()\n",
        "          str1 += c\n",
        "      else:\n",
        "          str1 += s[i]\n",
        "print(str1)"
      ],
      "metadata": {
        "colab": {
          "base_uri": "https://localhost:8080/"
        },
        "id": "99IQp0EbdxPh",
        "outputId": "af7f9c75-1e81-4154-f48d-cc82b2cd9540"
      },
      "execution_count": null,
      "outputs": [
        {
          "output_type": "stream",
          "name": "stdout",
          "text": [
            "guvi geek\n",
            "gUvI gEEk\n"
          ]
        }
      ]
    },
    {
      "cell_type": "code",
      "source": [
        "from re import sub\n",
        "\n",
        "def camel(s):\n",
        "  s = sub(r\"(_|-)+\", \" \", s).title().replace(\" \", \"\")\n",
        "  return ''.join([s[0].upper(), s[1:]])\n",
        "\n",
        "s=str(input())\n",
        "print(camel(s))"
      ],
      "metadata": {
        "colab": {
          "base_uri": "https://localhost:8080/"
        },
        "id": "rCYbzc-eNaun",
        "outputId": "cf7a7aa2-93e0-40cf-9504-85aa5a906b06"
      },
      "execution_count": null,
      "outputs": [
        {
          "output_type": "stream",
          "name": "stdout",
          "text": [
            "guvi geek\n",
            "GuviGeek\n"
          ]
        }
      ]
    },
    {
      "cell_type": "code",
      "source": [
        "s=str(input())\n",
        "vowels=\"aeiouAEIOU \"\n",
        "sum_string=\"\"\n",
        "for c in s:\n",
        "  if c in vowels :\n",
        "    sum_string+=c\n",
        "print(sum_string)"
      ],
      "metadata": {
        "colab": {
          "base_uri": "https://localhost:8080/"
        },
        "id": "ZEHVjBkpWIVq",
        "outputId": "12e7e1a3-5a06-45dc-f8ef-cb065736fc0a"
      },
      "execution_count": null,
      "outputs": [
        {
          "output_type": "stream",
          "name": "stdout",
          "text": [
            "guvi geek\n",
            "ui ee\n"
          ]
        }
      ]
    },
    {
      "cell_type": "code",
      "source": [
        "s=str(input())\n",
        "vowels=\"aeiouAEIOU\"\n",
        "count=0\n",
        "for c in s:\n",
        "  if c in vowels :\n",
        "    print(\"yes\")\n",
        "    break\n",
        "  else :\n",
        "    count+=1\n",
        "print(count,len(s))\n",
        "if count==len(s) :\n",
        "  print(\"no\")"
      ],
      "metadata": {
        "colab": {
          "base_uri": "https://localhost:8080/"
        },
        "id": "tC48x0WnLDio",
        "outputId": "d97141d1-04e9-4d32-b064-e154fdb64f7b"
      },
      "execution_count": null,
      "outputs": [
        {
          "output_type": "stream",
          "name": "stdout",
          "text": [
            "8 8\n",
            "no\n"
          ]
        }
      ]
    },
    {
      "cell_type": "code",
      "source": [
        "n=int(input())\n",
        "arr=list(map(int,input().split()))\n",
        "arr.sort()\n",
        "myset=set()\n",
        "list1=[]\n",
        "for num in arr :\n",
        "  myset.add(num)\n",
        "list1=list(myset)\n",
        "print(list1[1])\n"
      ],
      "metadata": {
        "colab": {
          "base_uri": "https://localhost:8080/"
        },
        "id": "f4-CnC59XeLs",
        "outputId": "c6a4f4ab-63a9-4edb-a986-a13c5adaf9c2"
      },
      "execution_count": null,
      "outputs": [
        {
          "output_type": "stream",
          "name": "stdout",
          "text": [
            "6\n",
            "5 7 4 4 6 8\n",
            "5\n"
          ]
        }
      ]
    },
    {
      "cell_type": "code",
      "source": [
        "n=int(input())\n",
        "arr=list(map(int,input().split()))\n",
        "for i in range(0,n) :\n",
        "  if arr.count(i)>1 :\n",
        "    arr.remove(i)\n",
        "print(*arr)"
      ],
      "metadata": {
        "colab": {
          "base_uri": "https://localhost:8080/"
        },
        "id": "5FURXF4oo9fi",
        "outputId": "99dbbe32-da5b-44ae-cdc8-3e53ccdab02f"
      },
      "execution_count": null,
      "outputs": [
        {
          "output_type": "stream",
          "name": "stdout",
          "text": [
            "6\n",
            "5 7 4 4 6 8\n",
            "5 7 4 6 8\n"
          ]
        }
      ]
    },
    {
      "cell_type": "code",
      "source": [],
      "metadata": {
        "id": "jH2dkhpAE1xT"
      },
      "execution_count": null,
      "outputs": []
    },
    {
      "cell_type": "code",
      "source": [],
      "metadata": {
        "id": "ypMtYFKeE125"
      },
      "execution_count": null,
      "outputs": []
    },
    {
      "cell_type": "code",
      "source": [
        "def findSingle(A, ar_size):\n",
        "    for i in range(ar_size):\n",
        "        count = 0\n",
        "        for j in range(ar_size):\n",
        "            if(A[i] == A[j]):\n",
        "                count += 1\n",
        "        if(count > 1):\n",
        "            return A[i]\n",
        "    return -1\n",
        "n=int(input())\n",
        "ar=list(map(int,input().split()))\n",
        "n = len(ar)\n",
        "print(findSingle(ar, n))\n"
      ],
      "metadata": {
        "colab": {
          "base_uri": "https://localhost:8080/"
        },
        "id": "gNP-0ghjE17-",
        "outputId": "d2acb199-27ea-4ede-e778-1bf5350025e8"
      },
      "execution_count": null,
      "outputs": [
        {
          "output_type": "stream",
          "name": "stdout",
          "text": [
            "5\n",
            "15 5 -20 -20 -45\n",
            "-20\n"
          ]
        }
      ]
    },
    {
      "cell_type": "code",
      "source": [
        "n,k=list(map(int,input().split()))\n",
        "arr=list(map(int,input().split()))\n",
        "for i in range(0,n) :\n",
        "  if k in arr :\n",
        "    print(\"Yes\")\n",
        "    break\n",
        "if k not in arr :\n",
        "   print(\"No\")"
      ],
      "metadata": {
        "colab": {
          "base_uri": "https://localhost:8080/"
        },
        "id": "0M4rYQ2HGALj",
        "outputId": "8abf6d72-bcee-4d0d-d500-8904836e08d2"
      },
      "execution_count": null,
      "outputs": [
        {
          "output_type": "stream",
          "name": "stdout",
          "text": [
            "3 2\n",
            "4 5 6\n",
            "No\n"
          ]
        }
      ]
    },
    {
      "cell_type": "code",
      "source": [
        "n=int(input())\n",
        "li=list(map(str,input().split()))\n",
        "li.sort()\n",
        "print(*li)"
      ],
      "metadata": {
        "colab": {
          "base_uri": "https://localhost:8080/"
        },
        "id": "WaQfkwgjHN8S",
        "outputId": "481a7719-5080-4243-9d83-a68b28974750"
      },
      "execution_count": null,
      "outputs": [
        {
          "output_type": "stream",
          "name": "stdout",
          "text": [
            "3\n",
            "aac ab aa\n",
            "aa aac ab\n"
          ]
        }
      ]
    },
    {
      "cell_type": "code",
      "source": [
        "import math\n",
        "def primeFactors(n):\n",
        "   l=[]\n",
        "   while n % 2 == 0:\n",
        "      l.append(2)\n",
        "      n = n // 2\n",
        "   for i in range(3,int(math.sqrt(n))+1,2):\n",
        "     while n % i== 0:\n",
        "         l.append(i)\n",
        "         n = n // i\n",
        "   if n > 2:\n",
        "     print(n)\n",
        "   l.sort()\n",
        "   set1=set(l)\n",
        "   li=list(set1)\n",
        "   print(*li)\n",
        "n = int(input())\n",
        "primeFactors(n)\n"
      ],
      "metadata": {
        "colab": {
          "base_uri": "https://localhost:8080/"
        },
        "id": "kLd3dR5VKCUM",
        "outputId": "4bc3ca38-1c99-4a7d-c600-f80484c3edd1"
      },
      "execution_count": null,
      "outputs": [
        {
          "output_type": "stream",
          "name": "stdout",
          "text": [
            "5\n",
            "5\n",
            "\n"
          ]
        }
      ]
    },
    {
      "cell_type": "code",
      "source": [
        "n=int(input())\n",
        "arr=list(map(int,input().split()))\n",
        "arr.sort()\n",
        "myset=set()\n",
        "list1=[]\n",
        "for num in arr :\n",
        "  myset.add(num)\n",
        "list1=list(myset)\n",
        "print(list1[1])\n"
      ],
      "metadata": {
        "id": "WNUneWUBN8Fv"
      },
      "execution_count": null,
      "outputs": []
    },
    {
      "cell_type": "code",
      "source": [
        "import sys\n",
        "n=int(input())\n",
        "arr=list(map(int,input().split()))\n",
        "smallest=min(arr)\n",
        "index_small=arr.index(smallest)\n",
        "second_smallest = sys.maxsize\n",
        "print(second_smallest)\n",
        "for i in range(n):\n",
        "    if(arr[i] < second_smallest and arr[i] > smallest):\n",
        "        second_smallest = arr[i]\n",
        "index_second_smallest=arr.index(second_smallest)\n",
        "print(index_second_smallest+1)"
      ],
      "metadata": {
        "colab": {
          "base_uri": "https://localhost:8080/"
        },
        "id": "JaPasr6VQsGS",
        "outputId": "2596ffeb-e8a0-4c48-95d2-df2c76f211db"
      },
      "execution_count": null,
      "outputs": [
        {
          "output_type": "stream",
          "name": "stdout",
          "text": [
            "6\n",
            "5 7 4 4 6 8\n",
            "9223372036854775807\n",
            "1\n"
          ]
        }
      ]
    },
    {
      "cell_type": "code",
      "source": [
        "n=int(input())\n",
        "li=list(map(int,input().split()))\n",
        "maximum= max(li[0],li[1])\n",
        "second_max= min(li[0],li[1])\n",
        "for i in range(2, n):\n",
        "   if li[i]>maximum or  li[i]==second_max:\n",
        "        second_max=maximum\n",
        "        maximum=li[i]\n",
        "   else:\n",
        "         if li[i]>second_max or li[i]==second_max :\n",
        "           second_max=li[i]\n",
        "print(second_max)\n"
      ],
      "metadata": {
        "colab": {
          "base_uri": "https://localhost:8080/"
        },
        "id": "UrdTujGTtVW3",
        "outputId": "114f4794-3112-4c7b-fe70-b426ae03cb87"
      },
      "execution_count": null,
      "outputs": [
        {
          "output_type": "stream",
          "name": "stdout",
          "text": [
            "5\n",
            "2 3 4 7 7\n",
            "7\n"
          ]
        }
      ]
    },
    {
      "cell_type": "code",
      "source": [
        "n=int(input())\n",
        "arr=list(map(int,input().split()))\n",
        "arr1=[]\n",
        "arr1=arr[: : -1]\n",
        "print(*arr1)"
      ],
      "metadata": {
        "colab": {
          "base_uri": "https://localhost:8080/"
        },
        "id": "e78mS7ru9IXx",
        "outputId": "76870108-86b4-4d03-feb1-1159eb3ab1e4"
      },
      "execution_count": null,
      "outputs": [
        {
          "output_type": "stream",
          "name": "stdout",
          "text": [
            "6\n",
            "1 2 3 4 5 6\n",
            "6 5 4 3 2 1\n"
          ]
        }
      ]
    },
    {
      "cell_type": "code",
      "source": [
        "n=int(input())\n",
        "p=0\n",
        "l=[]\n",
        "for i in range(1,n+1) :\n",
        " p=i*i+1\n",
        " l.append(p)\n",
        "print(*l)\n"
      ],
      "metadata": {
        "colab": {
          "base_uri": "https://localhost:8080/"
        },
        "id": "2Axa25Fk8bPF",
        "outputId": "72581e1e-c1c7-477d-f8b1-c9603a902885"
      },
      "execution_count": null,
      "outputs": [
        {
          "output_type": "stream",
          "name": "stdout",
          "text": [
            "4\n",
            "2 5 10 17\n"
          ]
        }
      ]
    },
    {
      "cell_type": "code",
      "source": [
        "import math\n",
        "n=float(input())\n",
        "print(math.ceil(n))\n"
      ],
      "metadata": {
        "colab": {
          "base_uri": "https://localhost:8080/"
        },
        "id": "FF_BlXl-Xk8y",
        "outputId": "013e1a87-3fd1-4e58-8585-38b1c98c921b"
      },
      "execution_count": null,
      "outputs": [
        {
          "output_type": "stream",
          "name": "stdout",
          "text": [
            "1.1\n",
            "1\n",
            "2\n"
          ]
        }
      ]
    },
    {
      "cell_type": "code",
      "source": [
        "s,k=list(map(str,input().split()))\n",
        "n=int(k)\n",
        "p=s[2::n]\n",
        "m=str(p)\n",
        "for i in m :\n",
        "  print(i,end=\" \")"
      ],
      "metadata": {
        "colab": {
          "base_uri": "https://localhost:8080/"
        },
        "id": "eAejLdaQqm8F",
        "outputId": "9ced17b4-a8d0-4d7a-ec95-28180f451699"
      },
      "execution_count": null,
      "outputs": [
        {
          "output_type": "stream",
          "name": "stdout",
          "text": [
            "string 3\n",
            "r g "
          ]
        }
      ]
    },
    {
      "cell_type": "markdown",
      "source": [
        "change every kth character to upper case in string"
      ],
      "metadata": {
        "id": "7RHMnRStrbYB"
      }
    },
    {
      "cell_type": "code",
      "source": [
        "s=str(input())\n",
        "m=s + s[1].upper()\n",
        "print(m)\n",
        "\n",
        "\n"
      ],
      "metadata": {
        "id": "Lcuf0EJWrhVd",
        "colab": {
          "base_uri": "https://localhost:8080/"
        },
        "outputId": "8af4153d-9a2a-40c1-a9db-3e242615d325"
      },
      "execution_count": null,
      "outputs": [
        {
          "output_type": "stream",
          "name": "stdout",
          "text": [
            "string\n",
            "stringT\n"
          ]
        }
      ]
    },
    {
      "cell_type": "markdown",
      "source": [
        "find the maximum number from given number"
      ],
      "metadata": {
        "id": "s6k6mKXMIHd5"
      }
    },
    {
      "cell_type": "code",
      "source": [
        "n=str(input())\n",
        "l=int(''.join(sorted(n, reverse=True)))\n",
        "print(l)\n",
        "\n"
      ],
      "metadata": {
        "colab": {
          "base_uri": "https://localhost:8080/"
        },
        "id": "dxrGHxOWIMAh",
        "outputId": "dc0bccbe-651e-4cb3-d72e-8e317732197f"
      },
      "execution_count": null,
      "outputs": [
        {
          "output_type": "stream",
          "name": "stdout",
          "text": [
            "1124\n",
            "4211\n"
          ]
        }
      ]
    },
    {
      "cell_type": "code",
      "source": [
        "n=int(input(\"Guess the number : \"))\n",
        "while n :\n",
        "  if n==100 :\n",
        "    print(\"Congrats\")\n",
        "    break\n",
        "  else :\n",
        "    print(\"Wrong number  try again\")\n",
        "    n=int(input(\"Guess the number : \"))\n",
        "    break\n",
        "\n",
        "\n",
        "\n",
        "\n"
      ],
      "metadata": {
        "colab": {
          "base_uri": "https://localhost:8080/"
        },
        "id": "ZJtRfVrTMfYZ",
        "outputId": "99d9080b-1a5a-4202-951c-033be46bed1e"
      },
      "execution_count": null,
      "outputs": [
        {
          "name": "stdout",
          "output_type": "stream",
          "text": [
            "Guess the number : 22\n",
            "Wrong number  try again\n",
            "Guess the number : 100\n"
          ]
        }
      ]
    },
    {
      "cell_type": "code",
      "source": [
        "s=str(input(\"Enter the password :\"))\n",
        "n=5\n",
        "count=0\n",
        "while s :\n",
        " if s==\"1234\" :\n",
        "  print(\"Attempt Success !\")\n",
        "  break\n",
        " elif s!=\"1234\" :\n",
        "  count=count+1\n",
        "  print(\"Attempt failed.You have {count} attempts\")\n",
        "  break\n",
        " if count<5 :\n",
        "   s=str(input(\"Enter the password :\"))\n",
        "\n",
        " if count==5 :\n",
        "   print(\"Pls try after 24 hrs\")"
      ],
      "metadata": {
        "colab": {
          "base_uri": "https://localhost:8080/"
        },
        "id": "KJviB6YQUjn8",
        "outputId": "9ad42e53-a976-4186-a797-4a8930653c53"
      },
      "execution_count": null,
      "outputs": [
        {
          "output_type": "stream",
          "name": "stdout",
          "text": [
            "Enter the password :1234\n",
            "Attempt Success !\n"
          ]
        }
      ]
    },
    {
      "cell_type": "code",
      "source": [
        "\n",
        "max_chars=200\n",
        "def areIsomorphic(string1,string2) :\n",
        "  m = len(string1)\n",
        "  n = len(string2)\n",
        "  if m != n:\n",
        "        return False\n",
        "  marked = [False] * max_chars\n",
        "  map = [-1] * max_chars\n",
        "  for i in range(n):\n",
        "         if map[ord(string1[i])] == -1:\n",
        "           if marked[ord(string2[i])] == True:\n",
        "                return False\n",
        "           marked[ord(string2[i])] = True\n",
        "           map[ord(string1[i])] = string2[i]\n",
        "         elif map[ord(string1[i])] != string2[i]:\n",
        "            print(\"no\")\n",
        "            return False\n",
        "print(\"yes\")\n",
        "\n",
        "s1,s2=list(map(str,input().split()))\n",
        "areIsomorphic(s1,s2)\n",
        "\n"
      ],
      "metadata": {
        "colab": {
          "base_uri": "https://localhost:8080/"
        },
        "id": "qmUzgJNCtNqY",
        "outputId": "f7a36416-aabe-45bf-b51c-004c471f00b9"
      },
      "execution_count": null,
      "outputs": [
        {
          "name": "stdout",
          "output_type": "stream",
          "text": [
            "yes\n",
            "aab xxy\n"
          ]
        }
      ]
    },
    {
      "cell_type": "code",
      "source": [
        "s=str(input())\n",
        "for i in s :\n",
        " if s.count(i) > 1 :\n",
        "  c=s.count(i)\n",
        "print(c)"
      ],
      "metadata": {
        "colab": {
          "base_uri": "https://localhost:8080/"
        },
        "id": "rTt9UnNqRHmX",
        "outputId": "0b5ceaab-7637-46b8-dcaa-4864f9476dbf"
      },
      "execution_count": null,
      "outputs": [
        {
          "output_type": "stream",
          "name": "stdout",
          "text": [
            "codekata\n",
            "2\n"
          ]
        }
      ]
    },
    {
      "cell_type": "code",
      "source": [
        "m,n=list(map(int,input()))\n"
      ],
      "metadata": {
        "colab": {
          "base_uri": "https://localhost:8080/"
        },
        "id": "YZ4IEwGpTSw5",
        "outputId": "f54a34cc-f975-43df-f37b-427d8e7e1727"
      },
      "execution_count": null,
      "outputs": [
        {
          "output_type": "stream",
          "name": "stdout",
          "text": [
            "5\n",
            "1 3 7 3 7\n",
            "6\n"
          ]
        }
      ]
    },
    {
      "cell_type": "code",
      "source": [
        "n=int(input())\n",
        "if n ==3 or n==5 or n==7 or n==9 or n==11  :\n",
        " t=n*2000 + 1000\n",
        "if n==1 or n==2 or n==4 or n==6 or n==8 or n==10 or n==12:\n",
        "  t=n*2000\n",
        "print(t)"
      ],
      "metadata": {
        "colab": {
          "base_uri": "https://localhost:8080/"
        },
        "id": "1_2vkH_JphLV",
        "outputId": "e1edb26b-e311-4a74-e21b-8e658fc92ebe"
      },
      "execution_count": null,
      "outputs": [
        {
          "output_type": "stream",
          "name": "stdout",
          "text": [
            "3\n",
            "7000\n"
          ]
        }
      ]
    },
    {
      "cell_type": "code",
      "source": [
        "n,k=list(map(int,input().split()))\n",
        "arr=list(map(int,input().split()))\n",
        "m=[]\n",
        "m= arr[: len(arr) -k]\n",
        "print(*m)\n",
        "\n"
      ],
      "metadata": {
        "colab": {
          "base_uri": "https://localhost:8080/"
        },
        "id": "pM1x3e-ckHpJ",
        "outputId": "da31d44b-9757-43b0-860a-19b0c8701edf"
      },
      "execution_count": null,
      "outputs": [
        {
          "output_type": "stream",
          "name": "stdout",
          "text": [
            "5 4\n",
            "1 2 3 4 5\n",
            "1\n"
          ]
        }
      ]
    },
    {
      "cell_type": "code",
      "source": [
        "n=int(input())\n",
        "l=list(map(int,input().split()))\n",
        "l.sort()\n",
        "m=l[0]\n",
        "print(m)"
      ],
      "metadata": {
        "colab": {
          "base_uri": "https://localhost:8080/"
        },
        "id": "TyYRbdMNtFiJ",
        "outputId": "4a74d80f-5655-47c6-9d58-4dfe430e5af2"
      },
      "execution_count": null,
      "outputs": [
        {
          "output_type": "stream",
          "name": "stdout",
          "text": [
            "5\n",
            "5 4 3 2 1\n",
            "1\n"
          ]
        }
      ]
    },
    {
      "cell_type": "code",
      "source": [
        "n=int(input())\n",
        "l=list(map(int,input().split()))\n",
        "for i in range(n-1) :\n",
        "  s=max(l[i], l[i+1])\n",
        "  print(s,end=\" \")\n"
      ],
      "metadata": {
        "colab": {
          "base_uri": "https://localhost:8080/"
        },
        "id": "Qd1tOVrZ-ZBJ",
        "outputId": "2b203521-d89a-4752-b8e1-2e2fce0e71f1"
      },
      "execution_count": null,
      "outputs": [
        {
          "output_type": "stream",
          "name": "stdout",
          "text": [
            "5\n",
            "1 2 3 4 5\n",
            "2 3 4 5 "
          ]
        }
      ]
    },
    {
      "cell_type": "code",
      "source": [
        "s=str(input())\n",
        "for i in s :\n",
        " if (int(i) == int(i)+1) or ( int(i)==int(i)+2 ) :\n",
        "  print(\"Saturated\")\n",
        " else :\n",
        "  print(\"Unsaturated\")"
      ],
      "metadata": {
        "colab": {
          "base_uri": "https://localhost:8080/"
        },
        "id": "_9RNNRjZZHQT",
        "outputId": "84b25944-9764-44ec-dee9-57563479247b"
      },
      "execution_count": null,
      "outputs": [
        {
          "output_type": "stream",
          "name": "stdout",
          "text": [
            "121\n",
            "Unsaturated\n",
            "Unsaturated\n",
            "Unsaturated\n"
          ]
        }
      ]
    },
    {
      "cell_type": "code",
      "source": [
        "n=int(input())\n",
        "s=str(n)\n",
        "p=1\n",
        "sum=0\n",
        "for i in s :\n",
        "  p=p*int(i)\n",
        "  sum=sum+int(i)\n",
        "if p+sum==n :\n",
        "  print(\"Great\")\n",
        "else :\n",
        "  print(\"no\")"
      ],
      "metadata": {
        "colab": {
          "base_uri": "https://localhost:8080/"
        },
        "id": "BENIiYS29vsY",
        "outputId": "ffcaa376-ee90-48c5-8134-f0db5ca7e9f2"
      },
      "execution_count": null,
      "outputs": [
        {
          "output_type": "stream",
          "name": "stdout",
          "text": [
            "55\n",
            "no\n"
          ]
        }
      ]
    },
    {
      "cell_type": "code",
      "source": [
        "l=list(map(int,input().split()))\n",
        "for i in l :\n",
        "  if l[i].count()"
      ],
      "metadata": {
        "id": "j6tb9Qo6z13F"
      },
      "execution_count": null,
      "outputs": []
    },
    {
      "cell_type": "code",
      "source": [
        "n=int(input())\n",
        "s=str(n)\n",
        "sum=0\n",
        "for i in s :\n",
        " sum=sum+int(i)\n",
        "if sum%3==0 :\n",
        "  print(\"yes\")\n",
        "else :\n",
        "  print(\"not\")"
      ],
      "metadata": {
        "colab": {
          "base_uri": "https://localhost:8080/"
        },
        "id": "Umjpupdxy9K8",
        "outputId": "79448d1e-4dec-461d-f3c1-67b756f9bde3"
      },
      "execution_count": null,
      "outputs": [
        {
          "output_type": "stream",
          "name": "stdout",
          "text": [
            "13\n",
            "not\n"
          ]
        }
      ]
    },
    {
      "cell_type": "code",
      "source": [
        "n=int(input())\n",
        "s=str(n)\n",
        "count1=0\n",
        "neg =0\n",
        "for i in s:\n",
        " j=int(i)\n",
        " print(j)\n",
        " #if i==1 :\n",
        " print(s[j])\n",
        " #print(s[int(i)+1])\n",
        "   #if i==1 and s[int(i)]==1 and s[int(i)+1] :\n",
        "  #print(i)\n",
        "  #print(s[0])\n",
        "\n",
        "       #if (s[int(i)] == s[int(i)+1]) :\n",
        "        #count1=count1+1\n",
        "  #if s[i]!=1 and s[i+1] !=1 :\n",
        "    #neg=neg+1\n",
        "#if count1>neg :\n",
        "#print(count1)\n",
        "#if neg >count1 :\n",
        " #print(-1)\n"
      ],
      "metadata": {
        "colab": {
          "base_uri": "https://localhost:8080/"
        },
        "id": "vDAewDl5_2Wi",
        "outputId": "5737c62e-1f4e-45c1-e607-1bf771b77fee"
      },
      "execution_count": null,
      "outputs": [
        {
          "output_type": "stream",
          "name": "stdout",
          "text": [
            "1010\n",
            "1\n",
            "0\n",
            "0\n",
            "1\n",
            "1\n",
            "0\n",
            "0\n",
            "1\n"
          ]
        }
      ]
    },
    {
      "cell_type": "code",
      "source": [
        "#find the max count of consecutive digits in a number\n",
        "n=input()\n",
        "l=len(n)\n",
        "count=0\n",
        "res=0\n",
        "for i in range(0,l) :\n",
        "  if n[i]=='1' :\n",
        "    count=count + 1\n",
        "    res=max(res,count)\n",
        "  else :\n",
        "    count=0\n",
        "if count > 0 :\n",
        "  print(res)\n",
        "else :\n",
        "  print(-1)\n",
        "\n"
      ],
      "metadata": {
        "id": "27wTwwmGlxBo"
      },
      "execution_count": null,
      "outputs": []
    },
    {
      "cell_type": "code",
      "source": [
        "n=input()"
      ],
      "metadata": {
        "colab": {
          "base_uri": "https://localhost:8080/"
        },
        "id": "hfK08LTHshwQ",
        "outputId": "55c956ad-5284-4bed-c3c0-ce1b7ff269e0"
      },
      "execution_count": null,
      "outputs": [
        {
          "output_type": "stream",
          "name": "stdout",
          "text": [
            "3 5\n",
            "-1\n"
          ]
        }
      ]
    },
    {
      "cell_type": "code",
      "source": [],
      "metadata": {
        "id": "uVE38OMKAplC"
      },
      "execution_count": null,
      "outputs": []
    },
    {
      "cell_type": "code",
      "source": [
        "n=int(input())\n",
        "if n % 7==0 :\n",
        "  print(\"yes\")\n",
        "else :\n",
        "  print(\"no\")"
      ],
      "metadata": {
        "colab": {
          "base_uri": "https://localhost:8080/"
        },
        "id": "Rmr9IZUn80iF",
        "outputId": "84e3894a-4f08-4834-bd1a-7a1bb6e35dcb"
      },
      "execution_count": null,
      "outputs": [
        {
          "output_type": "stream",
          "name": "stdout",
          "text": [
            "8\n",
            "no\n"
          ]
        }
      ]
    },
    {
      "cell_type": "code",
      "source": [
        "n=int(input())\n",
        "l=list(map(int,input().split()))\n",
        "l.sort(reverse=True)\n",
        "s=l[0]+l[1]\n",
        "print(s)"
      ],
      "metadata": {
        "colab": {
          "base_uri": "https://localhost:8080/"
        },
        "id": "Cc2rX39uCxAc",
        "outputId": "cbfae70b-43e7-4372-b082-abf61b7686be"
      },
      "execution_count": null,
      "outputs": [
        {
          "output_type": "stream",
          "name": "stdout",
          "text": [
            "5\n",
            "1 5 6 8 3\n",
            "14\n"
          ]
        }
      ]
    },
    {
      "cell_type": "code",
      "source": [
        "n=int(input())\n",
        "l=list(map(int,input().split()))\n",
        "l.sort(reverse=True)\n",
        "s=l[0]-l[n-1]\n",
        "print(s)"
      ],
      "metadata": {
        "colab": {
          "base_uri": "https://localhost:8080/"
        },
        "id": "vxqPtA2mDcUh",
        "outputId": "883844fe-f1cd-4f09-8951-39cbf8a8f91a"
      },
      "execution_count": null,
      "outputs": [
        {
          "output_type": "stream",
          "name": "stdout",
          "text": [
            "5\n",
            "1 2 3 4 5\n",
            "4\n"
          ]
        }
      ]
    },
    {
      "cell_type": "code",
      "source": [
        "n,k=list(map(int,input().split()))\n",
        "arr1=list(map(int,input().split()))\n",
        "arr2=list(map(int,input().split()))\n",
        "arr3=[]\n",
        "arr3=arr1+arr2\n",
        "arr3.sort()\n",
        "print(*arr3)\n"
      ],
      "metadata": {
        "colab": {
          "base_uri": "https://localhost:8080/"
        },
        "id": "4ifnBx5KEjR8",
        "outputId": "7dee6345-3ea8-410c-b1db-094846a4bc35"
      },
      "execution_count": null,
      "outputs": [
        {
          "output_type": "stream",
          "name": "stdout",
          "text": [
            "5 4\n",
            "1 2 3 4 5\n",
            "1 2 3 4\n",
            "1 1 2 2 3 3 4 4 5\n"
          ]
        }
      ]
    },
    {
      "cell_type": "code",
      "source": [
        "n=int(input())\n",
        "l=list(map(int,input().split()))\n",
        "m=l[:]\n",
        "r=l[:]\n",
        "m.sort()\n",
        "r.sort(reverse=True)\n",
        "if(l==m or l==r) :\n",
        "  print(\"yes\")\n",
        "else :\n",
        "  print(\"no\")\n"
      ],
      "metadata": {
        "colab": {
          "base_uri": "https://localhost:8080/"
        },
        "id": "odLLONtIIIGC",
        "outputId": "fdbaaee6-1110-4367-a667-10a3a860b26a"
      },
      "execution_count": null,
      "outputs": [
        {
          "output_type": "stream",
          "name": "stdout",
          "text": [
            "3\n",
            "3 2 1\n",
            "yes\n"
          ]
        }
      ]
    },
    {
      "cell_type": "code",
      "source": [
        "n=int(input())\n",
        "s=str(n)\n",
        "sum=0\n",
        "for char in s:\n",
        "  sum=sum + int(char)**4\n",
        "  print(sum)"
      ],
      "metadata": {
        "colab": {
          "base_uri": "https://localhost:8080/"
        },
        "id": "T2X1G0TgsO8G",
        "outputId": "8c70e65d-d0a4-4f45-8d16-79f1c77bacbb"
      },
      "execution_count": null,
      "outputs": [
        {
          "output_type": "stream",
          "name": "stdout",
          "text": [
            "12300\n",
            "1\n",
            "17\n",
            "98\n",
            "98\n",
            "98\n"
          ]
        }
      ]
    },
    {
      "cell_type": "code",
      "source": [
        "s,k=list(map(str,input().split()))\n",
        "n=int(k)\n",
        "p=s[2::n]\n",
        "#for char in s[0::3] :\n",
        "print(p,end=\" \")\n",
        "print(p.join(\" \"))"
      ],
      "metadata": {
        "colab": {
          "base_uri": "https://localhost:8080/"
        },
        "id": "GRdR-BovxFJ6",
        "outputId": "0e11e42d-ad81-4219-fd06-2628f2b6d192"
      },
      "execution_count": null,
      "outputs": [
        {
          "output_type": "stream",
          "name": "stdout",
          "text": [
            "string 3\n",
            "rg  \n"
          ]
        }
      ]
    },
    {
      "cell_type": "code",
      "source": [
        "a,b,c=list(map(int,input().split()))\n",
        "print((a*b) % c)"
      ],
      "metadata": {
        "colab": {
          "base_uri": "https://localhost:8080/"
        },
        "id": "ow1gILWh_36W",
        "outputId": "c3f81f60-9c2c-4b57-f4b7-55371e4bb272"
      },
      "execution_count": null,
      "outputs": [
        {
          "output_type": "stream",
          "name": "stdout",
          "text": [
            "5 3 2\n",
            "1\n"
          ]
        }
      ]
    },
    {
      "cell_type": "code",
      "source": [
        "s=str(input())\n",
        "n=s.count(\"0\")\n",
        "k=s.count(\"1\")\n",
        "print(n,k)\n",
        "\n",
        "\n"
      ],
      "metadata": {
        "colab": {
          "base_uri": "https://localhost:8080/"
        },
        "id": "_zn1Yj3zB0vg",
        "outputId": "140b4635-1d1b-43bc-96af-a5323ddd0133"
      },
      "execution_count": null,
      "outputs": [
        {
          "output_type": "stream",
          "name": "stdout",
          "text": [
            "101011111\n",
            "2 7\n"
          ]
        }
      ]
    },
    {
      "cell_type": "code",
      "source": [
        "n=int(input())\n",
        "l=list(map(int,input().split()))\n",
        "l.sort()\n",
        "print(l[0])\n"
      ],
      "metadata": {
        "colab": {
          "base_uri": "https://localhost:8080/"
        },
        "id": "Cmdq_2HKCr7d",
        "outputId": "059443a8-089d-4e9d-86a4-c6f607629bb0"
      },
      "execution_count": null,
      "outputs": [
        {
          "output_type": "stream",
          "name": "stdout",
          "text": [
            "5\n",
            "3 4 5 1 6\n",
            "1\n"
          ]
        }
      ]
    },
    {
      "cell_type": "code",
      "source": [
        "n=int(input())\n",
        "l,r=list(map(int,input().split()))\n",
        "if n in range(l,r) :\n",
        "  print(\"yes\")\n",
        "else :\n",
        "  print(\"no\")"
      ],
      "metadata": {
        "colab": {
          "base_uri": "https://localhost:8080/"
        },
        "id": "m6VbbjnBDfaE",
        "outputId": "28f330ee-320d-4986-e3c1-e8b118f5a4ea"
      },
      "execution_count": null,
      "outputs": [
        {
          "output_type": "stream",
          "name": "stdout",
          "text": [
            "5\n",
            "1 3\n",
            "no\n"
          ]
        }
      ]
    },
    {
      "cell_type": "code",
      "source": [
        "n=int(input())\n",
        "s=str(n)\n",
        "p=0\n",
        "for chr in s :\n",
        "  p =p + (int(chr) * int(chr))\n",
        "print(p)\n",
        "\n",
        "\n"
      ],
      "metadata": {
        "colab": {
          "base_uri": "https://localhost:8080/"
        },
        "id": "V6Qo-KqNEW6d",
        "outputId": "b75d48a6-6381-4387-806d-5a24e04ad273"
      },
      "execution_count": null,
      "outputs": [
        {
          "output_type": "stream",
          "name": "stdout",
          "text": [
            "2143\n",
            "30\n"
          ]
        }
      ]
    },
    {
      "cell_type": "code",
      "source": [
        "n=int(input())\n",
        "s=str(n)\n",
        "p=1\n",
        "for chr in s :\n",
        "  p =p * (int(chr) )\n",
        "print(p)"
      ],
      "metadata": {
        "colab": {
          "base_uri": "https://localhost:8080/"
        },
        "id": "gLmSmn1CbJjl",
        "outputId": "ed5f8d4d-680f-4b6c-9099-70ef7fad5118"
      },
      "execution_count": null,
      "outputs": [
        {
          "output_type": "stream",
          "name": "stdout",
          "text": [
            "2143\n",
            "24\n"
          ]
        }
      ]
    },
    {
      "cell_type": "code",
      "source": [
        "n=int(input())\n",
        "d=n%13\n",
        "if d==0 :\n",
        "  print(\"yes\")\n",
        "else :\n",
        "  print(\"no\")"
      ],
      "metadata": {
        "colab": {
          "base_uri": "https://localhost:8080/"
        },
        "id": "BXKFryPDeA1y",
        "outputId": "9c9f0792-521c-42f4-8681-2d4919b3bf94"
      },
      "execution_count": null,
      "outputs": [
        {
          "output_type": "stream",
          "name": "stdout",
          "text": [
            "21\n",
            "no\n"
          ]
        }
      ]
    },
    {
      "cell_type": "code",
      "source": [
        "n=int(input())\n",
        "s=str(n)\n",
        "l=len(s)\n",
        "print(l)"
      ],
      "metadata": {
        "colab": {
          "base_uri": "https://localhost:8080/"
        },
        "id": "2t3cVakQewyl",
        "outputId": "16082028-ea75-4ddb-e273-f8779d9378dd"
      },
      "execution_count": null,
      "outputs": [
        {
          "output_type": "stream",
          "name": "stdout",
          "text": [
            "548\n",
            "3\n"
          ]
        }
      ]
    },
    {
      "cell_type": "code",
      "source": [
        "#l=list(map(str,input().split()))\n",
        "s=str(input().split())\n",
        "print(s)\n",
        "m=[]\n",
        "for i in s :\n",
        "  if i.isdigit() :\n",
        "    m.append(int(i))\n",
        "print(*m)\n",
        "\n",
        "\n",
        "\n"
      ],
      "metadata": {
        "colab": {
          "base_uri": "https://localhost:8080/"
        },
        "id": "HDDomeKXhIeC",
        "outputId": "3d32ba1b-c3bd-42bd-d7ab-be5b765440d9"
      },
      "execution_count": null,
      "outputs": [
        {
          "output_type": "stream",
          "name": "stdout",
          "text": [
            "i was born on 12 1998\n",
            "['i', 'was', 'born', 'on', '12', '1998']\n",
            "1 2 1 9 9 8\n"
          ]
        }
      ]
    },
    {
      "cell_type": "code",
      "source": [
        "n=int(input())\n",
        "s=str(n)\n",
        "sum=0\n",
        "for i in s :\n",
        "  if int(i)%2 !=0 :\n",
        "    sum=sum+ int(i)\n",
        "if sum%2==0 :\n",
        "  print(\"E\")\n",
        "else :\n",
        "  print(\"O\")"
      ],
      "metadata": {
        "colab": {
          "base_uri": "https://localhost:8080/"
        },
        "id": "TtGcofqTVCFw",
        "outputId": "f8b82e17-8a74-4d20-99a7-1e9871e8e685"
      },
      "execution_count": null,
      "outputs": [
        {
          "output_type": "stream",
          "name": "stdout",
          "text": [
            "111\n",
            "O\n"
          ]
        }
      ]
    },
    {
      "cell_type": "code",
      "source": [
        "n,r1,r2=list(map(int,input().split()))\n",
        "l=list(map(int,input().split()))\n",
        "s=0\n",
        "for i in range(r1,r2) :\n",
        "    if min(l[i],r1) and min(l[i],r2) :\n",
        "       s=l[i]\n",
        "print(s)\n",
        "\n"
      ],
      "metadata": {
        "colab": {
          "base_uri": "https://localhost:8080/"
        },
        "id": "KkwdCedHWYIb",
        "outputId": "15d5ea6b-ce35-4896-9a2e-f66a02fcc819"
      },
      "execution_count": null,
      "outputs": [
        {
          "output_type": "stream",
          "name": "stdout",
          "text": [
            "5 2 4\n",
            "1 2 3 4 5\n",
            "4\n"
          ]
        }
      ]
    },
    {
      "cell_type": "code",
      "source": [],
      "metadata": {
        "id": "zLYhjw1whewm"
      },
      "execution_count": null,
      "outputs": []
    },
    {
      "cell_type": "code",
      "source": [
        "n1=1\n",
        "n2=1\n",
        "print(min(n1,n2))"
      ],
      "metadata": {
        "colab": {
          "base_uri": "https://localhost:8080/"
        },
        "id": "x7iatEjkanne",
        "outputId": "e99bb323-4f80-4b4e-8846-8df2665bf1d7"
      },
      "execution_count": null,
      "outputs": [
        {
          "output_type": "stream",
          "name": "stdout",
          "text": [
            "1\n"
          ]
        }
      ]
    },
    {
      "cell_type": "code",
      "source": [
        "#n=int(input())\n",
        "s1=str(input())\n",
        "#s2=str(input())\n",
        "#s3=str(input())\n",
        "sum1=0\n",
        "#sum2=0\n",
        "#sum3=0\n",
        "vowels=[\"a\",\"e\",\"i\",\"o\",\"u\",\"A\",\"E\",\"I\",\"O\",\"U\"]\n",
        "for char in s1 :\n",
        "  if char in vowels :\n",
        "     sum1=sum1+1\n",
        "  #if char in s2 :\n",
        "     #sum2=sum2+1\n",
        "  #if char in s3 :\n",
        "     #sum3=sum3+1\n",
        "#print(sum1,sum2,sum3)\n",
        "#s1=max(sum1,sum2,sum3)\n",
        "print(sum1)\n",
        "\n"
      ],
      "metadata": {
        "colab": {
          "base_uri": "https://localhost:8080/"
        },
        "id": "GjsN2MwvhgZd",
        "outputId": "f3f96b10-6660-4230-8cda-9f27fc3b8242"
      },
      "execution_count": null,
      "outputs": [
        {
          "output_type": "stream",
          "name": "stdout",
          "text": [
            "Vishaluarei\n",
            "6\n"
          ]
        }
      ]
    },
    {
      "cell_type": "code",
      "source": [
        "n=int(input())\n",
        "if (n>=1) or (n<=100) :\n",
        " for i in range(n) :\n",
        "   for j in range(i+1)  :\n",
        "     print(\"* \", end=\"\")\n",
        "   print(\"\\n\")"
      ],
      "metadata": {
        "colab": {
          "base_uri": "https://localhost:8080/"
        },
        "id": "DCPcGUlA1RVz",
        "outputId": "07e187d2-4871-47da-b1c8-ef8f7f6d694a"
      },
      "execution_count": null,
      "outputs": [
        {
          "output_type": "stream",
          "name": "stdout",
          "text": [
            "5\n",
            "* \n",
            "\n",
            "* * \n",
            "\n",
            "* * * \n",
            "\n",
            "* * * * \n",
            "\n",
            "* * * * * \n",
            "\n"
          ]
        }
      ]
    },
    {
      "cell_type": "code",
      "source": [
        "s,k=list(map(str,input().split()))\n",
        "n=int(k)\n",
        "p=s[2::n]\n",
        "print(p)\n",
        "print(p.join(\"#\"))"
      ],
      "metadata": {
        "colab": {
          "base_uri": "https://localhost:8080/"
        },
        "id": "X_o3SgMZBNB0",
        "outputId": "3e59c963-f6c7-407a-eadc-24304090527b"
      },
      "execution_count": null,
      "outputs": [
        {
          "output_type": "stream",
          "name": "stdout",
          "text": [
            "string 3\n",
            "rg\n",
            "#\n"
          ]
        }
      ]
    },
    {
      "cell_type": "code",
      "source": [
        " n=str(input())\n",
        " if n== 0 :\n",
        "   print(\"Zero\")\n",
        " if (int(n) >= 1) :\n",
        "  if int(n)%2 == 0 :\n",
        "   print(\"Even\")\n",
        "  else :\n",
        "   print(\"Odd\")\n",
        " else :\n",
        "   print(round(int(n),2))"
      ],
      "metadata": {
        "colab": {
          "base_uri": "https://localhost:8080/",
          "height": 263
        },
        "id": "Kidd5f30fubo",
        "outputId": "adb5e1f4-cc03-4ad1-f4bf-12826639862e"
      },
      "execution_count": null,
      "outputs": [
        {
          "name": "stdout",
          "output_type": "stream",
          "text": [
            "78.5555\n"
          ]
        },
        {
          "output_type": "error",
          "ename": "TypeError",
          "evalue": "'>=' not supported between instances of 'str' and 'int'",
          "traceback": [
            "\u001b[0;31m---------------------------------------------------------------------------\u001b[0m",
            "\u001b[0;31mTypeError\u001b[0m                                 Traceback (most recent call last)",
            "\u001b[0;32m<ipython-input-23-ab81d9162de9>\u001b[0m in \u001b[0;36m<cell line: 4>\u001b[0;34m()\u001b[0m\n\u001b[1;32m      2\u001b[0m \u001b[0;32mif\u001b[0m \u001b[0mn\u001b[0m\u001b[0;34m==\u001b[0m \u001b[0;36m0\u001b[0m \u001b[0;34m:\u001b[0m\u001b[0;34m\u001b[0m\u001b[0;34m\u001b[0m\u001b[0m\n\u001b[1;32m      3\u001b[0m   \u001b[0mprint\u001b[0m\u001b[0;34m(\u001b[0m\u001b[0;34m\"Zero\"\u001b[0m\u001b[0;34m)\u001b[0m\u001b[0;34m\u001b[0m\u001b[0;34m\u001b[0m\u001b[0m\n\u001b[0;32m----> 4\u001b[0;31m \u001b[0;32mif\u001b[0m \u001b[0mn\u001b[0m\u001b[0;34m>=\u001b[0m\u001b[0;36m1\u001b[0m \u001b[0;34m:\u001b[0m\u001b[0;34m\u001b[0m\u001b[0;34m\u001b[0m\u001b[0m\n\u001b[0m\u001b[1;32m      5\u001b[0m  \u001b[0;32mif\u001b[0m \u001b[0mint\u001b[0m\u001b[0;34m(\u001b[0m\u001b[0mn\u001b[0m\u001b[0;34m)\u001b[0m\u001b[0;34m%\u001b[0m\u001b[0;36m2\u001b[0m \u001b[0;34m==\u001b[0m \u001b[0;36m0\u001b[0m \u001b[0;34m:\u001b[0m\u001b[0;34m\u001b[0m\u001b[0;34m\u001b[0m\u001b[0m\n\u001b[1;32m      6\u001b[0m   \u001b[0mprint\u001b[0m\u001b[0;34m(\u001b[0m\u001b[0;34m\"Even\"\u001b[0m\u001b[0;34m)\u001b[0m\u001b[0;34m\u001b[0m\u001b[0;34m\u001b[0m\u001b[0m\n",
            "\u001b[0;31mTypeError\u001b[0m: '>=' not supported between instances of 'str' and 'int'"
          ]
        }
      ]
    },
    {
      "cell_type": "code",
      "source": [
        "n1,n2=list(map(int,input().split()))\n",
        "print(n2-n1)"
      ],
      "metadata": {
        "colab": {
          "base_uri": "https://localhost:8080/"
        },
        "id": "_77sEjiDgDcs",
        "outputId": "4961b03d-b786-4290-b190-5fc97d0ed65b"
      },
      "execution_count": null,
      "outputs": [
        {
          "output_type": "stream",
          "name": "stdout",
          "text": [
            "100 200\n",
            "100\n"
          ]
        }
      ]
    },
    {
      "cell_type": "code",
      "source": [
        "l=list(map(int,input().split()))\n",
        "l.sort()\n",
        "print(l[0])"
      ],
      "metadata": {
        "colab": {
          "base_uri": "https://localhost:8080/"
        },
        "id": "GJW_rt4hdPno",
        "outputId": "a2539097-b43e-44d2-f20a-02e44aa07395"
      },
      "execution_count": null,
      "outputs": [
        {
          "output_type": "stream",
          "name": "stdout",
          "text": [
            "5 4 3 2 1 7 6 10 8 9\n",
            "1\n"
          ]
        }
      ]
    },
    {
      "cell_type": "code",
      "source": [
        "\n"
      ],
      "metadata": {
        "id": "O1QDWNchCHfy"
      },
      "execution_count": null,
      "outputs": []
    },
    {
      "cell_type": "code",
      "source": [
        "n=int(input())\n",
        "arr1=list(map(int,input().split()))\n",
        "arr2=list(map(int,input().split()))\n",
        "r=arr1[::-1]\n",
        "if arr2==r :\n",
        "  print(\"yes\")\n",
        "else :\n",
        "  print(\"no\")"
      ],
      "metadata": {
        "colab": {
          "base_uri": "https://localhost:8080/"
        },
        "id": "25DNKIl3eclp",
        "outputId": "a73c6461-bc23-4b6e-cbf4-247374bcbef1"
      },
      "execution_count": null,
      "outputs": [
        {
          "output_type": "stream",
          "name": "stdout",
          "text": [
            "4\n",
            "1 2 3 4\n",
            "1 2 3 4\n",
            "no\n"
          ]
        }
      ]
    },
    {
      "cell_type": "code",
      "source": [
        "n=int(input())\n",
        "l=list(map(int,input().split()))\n",
        "l.sort()\n",
        "print(l[1])"
      ],
      "metadata": {
        "colab": {
          "base_uri": "https://localhost:8080/"
        },
        "id": "eHnHM45-EDwz",
        "outputId": "2287a26f-e86a-483b-b88f-fa6aad8a8e78"
      },
      "execution_count": null,
      "outputs": [
        {
          "output_type": "stream",
          "name": "stdout",
          "text": [
            "5\n",
            "1 2 3 4 5\n",
            "2\n"
          ]
        }
      ]
    }
  ]
}